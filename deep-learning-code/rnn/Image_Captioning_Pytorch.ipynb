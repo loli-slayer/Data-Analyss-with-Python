{
  "nbformat": 4,
  "nbformat_minor": 0,
  "metadata": {
    "accelerator": "GPU",
    "colab": {
      "name": "Image_Captioning_Pytorch.ipynb",
      "provenance": [],
      "collapsed_sections": [],
      "machine_shape": "hm"
    },
    "kernelspec": {
      "display_name": "Python 3",
      "language": "python",
      "name": "python3"
    },
    "language_info": {
      "codemirror_mode": {
        "name": "ipython",
        "version": 3
      },
      "file_extension": ".py",
      "mimetype": "text/x-python",
      "name": "python",
      "nbconvert_exporter": "python",
      "pygments_lexer": "ipython3",
      "version": "3.7.10"
    }
  },
  "cells": [
    {
      "cell_type": "markdown",
      "metadata": {
        "id": "eUJGHJ714v9G"
      },
      "source": [
        "# Introduction\n",
        "\n",
        "- Trong bài này, chúng ta mong muốn có thể tạo caption cho bức ảnh. Chúng ta sẽ code từ đầu cho bài này nhé !\n",
        "\n",
        "- Đầu tiên chúng ta cần phải chuẩn bị data. Bạn hãy click vào [data](https://drive.google.com/file/d/1CP8Pw-syl2KWvpV0xyhkAMa7zre6dCBY/view), sau đó hãy thêm file `archive.zip` vào drive của mình nhé ! Tập data này được public trên kaggle, các bạn có thể xem thêm thông tin về tập data này ở trang chủ cuộc thi [kaggle](https://www.kaggle.com/adityajn105/flickr8k).\n",
        "\n",
        "- Trong bài này, mình code dựa trên bài viết chi tiết này [link](https://github.com/sgrvinod/a-PyTorch-Tutorial-to-Image-Captioning), mọi người hãy click vào và đọc `readme` nhé ! "
      ]
    },
    {
      "cell_type": "code",
      "metadata": {
        "colab": {
          "base_uri": "https://localhost:8080/"
        },
        "id": "BQC88Xw44OUk",
        "outputId": "21425b1b-e9ca-41bc-d68c-b462a3e4e95c"
      },
      "source": [
        "from google.colab import drive\n",
        "drive.mount('/content/drive/')\n",
        "%cd /content/drive/MyDrive"
      ],
      "execution_count": null,
      "outputs": [
        {
          "output_type": "stream",
          "name": "stdout",
          "text": [
            "Mounted at /content/drive/\n",
            "/content/drive/MyDrive\n"
          ]
        }
      ]
    },
    {
      "cell_type": "code",
      "metadata": {
        "id": "Hn3g-1Y84kGd",
        "colab": {
          "base_uri": "https://localhost:8080/"
        },
        "outputId": "ee42a579-f4df-4c57-b39f-6eb1e1e35aec"
      },
      "source": [
        "# unzip file archive.zip \n",
        "import os\n",
        "if not None:  # check xem `flickr8k` đã có chưa\n",
        "  !unzip archive.zip "
      ],
      "execution_count": null,
      "outputs": [
        {
          "output_type": "stream",
          "name": "stdout",
          "text": [
            "Archive:  archive.zip\n",
            "replace flickr8k/captions.txt? [y]es, [n]o, [A]ll, [N]one, [r]ename: "
          ]
        }
      ]
    },
    {
      "cell_type": "markdown",
      "metadata": {
        "id": "vIEm6pq07u7Q"
      },
      "source": [
        "- Hãy dành thời gian để quan sát data nhé, có khoảng 8k ảnh trong thư mục `flickr8k/images`. Mỗi bức ảnh sẽ có 5 captions, tất cả được lưu ở file `flickr8k/captions.txt`. Các bạn chú ý file này có nội dung như thế nào nhé"
      ]
    },
    {
      "cell_type": "markdown",
      "metadata": {
        "id": "flJ5Zi6m9shs"
      },
      "source": [
        "# 1. Utils"
      ]
    },
    {
      "cell_type": "code",
      "metadata": {
        "id": "-dcsCN0D--Tr"
      },
      "source": [
        "# một số config nhé\n",
        "img_folder = 'flickr8k/images'  # folder chứa các ảnh\n",
        "stoi_file = 'flickr8k/stoi.json' # sequence to index trong phần encode\n",
        "itos_file = 'flickr8k/itos.json' # index to sequence để tiện decode\n",
        "model_save_path = 'flickr8k/model.pth' # lưu lại trained model ở file này\n",
        "grad_clip = 5 # tham số liên quan đến clip gradients\n",
        "freq_threshold = 3 # tham số liên quan đến stop words"
      ],
      "execution_count": null,
      "outputs": []
    },
    {
      "cell_type": "code",
      "metadata": {
        "id": "iI_FYdKvFURD"
      },
      "source": [
        "import glob\n",
        "import json\n",
        "from sklearn import model_selection\n",
        "import spacy  # for tokenizer\n",
        "spacy_eng = spacy.load(\"en_core_web_sm\")\n",
        "import torch\n",
        "import torchvision\n",
        "from sklearn.model_selection import train_test_split\n",
        "import os"
      ],
      "execution_count": null,
      "outputs": []
    },
    {
      "cell_type": "markdown",
      "metadata": {
        "id": "rDGdX4vJSoq2"
      },
      "source": [
        "- Trong phần này, chúng ta cần viết một số hàm/class sau :\n",
        "\n",
        "  - `make_data` đầu vào là file captions.txt, chúng ta cần trả về  `img_names` (list các tên ảnh) và `captions` (list các captions) \n",
        "\n",
        "  - `split_data` đầu vào là `img_paths` và `targets`, trả về  `img_names_train,captions_train,img_names_val,captions_val,img_names_test,captions_test`, tỷ lệ test_size có thể để 0.05\n",
        "\n",
        "  - `write_json` và `read_json` để tiện làm việc với json file\n",
        "  - Class `Vocab` với 2 thuộc tính quan trọng là `ios` và `soi`\n",
        "  - `tokenizer_eng` để  token text \n",
        "  - `numericalize` encode một text dựa vào `soi` \n",
        "  - `save_checkpoint` lưu lại model \n"
      ]
    },
    {
      "cell_type": "code",
      "metadata": {
        "id": "511dqdO07iE1"
      },
      "source": [
        "def make_data(txt_path = 'flickr8k/captions.txt'):\n",
        "    img_names = []\n",
        "    captions = []\n",
        "    with open(txt_path,'r') as f:\n",
        "      l_strip = [s.strip().split(\",\") for s in f.readlines()]\n",
        "      l_strip.pop(0)\n",
        "    for img in l_strip:\n",
        "      img_names.append(img[0])\n",
        "      captions.append(img[1])\n",
        "    return img_names,captions\n",
        "\n",
        "\n",
        "def split_data(img_paths,targets):\n",
        "    img_names_train, img_names_test,captions_train,captions_test = train_test_split(img_paths,targets, test_size = 0.05, random_state=1)\n",
        "    img_names_train, img_names_val,captions_train,captions_val = train_test_split(img_names_train,captions_train, test_size = 0.2, random_state=1)\n",
        "    return img_names_train,captions_train,img_names_val,captions_val,img_names_test,captions_test\n",
        "\n",
        "\n",
        "def write_json(data,data_path):\n",
        "    with open(data_path,'w') as out:\n",
        "      json.dump(data,out)\n",
        "    pass\n",
        "\n",
        "\n",
        "def read_json(data_path):\n",
        "    with open(data_path,'r') as f:\n",
        "      data = json.load(f)\n",
        "    return data\n",
        "\n",
        "\n",
        "class Vocab:\n",
        "\n",
        "    def __init__(self,captions,freq_threshold):\n",
        "        self.captions = captions\n",
        "        self.freq_threshold = freq_threshold\n",
        "        self.itos = {0: \"<PAD>\", 1: \"<SOS>\", 2: \"<EOS>\", 3: \"<UNK>\"}\n",
        "        self.stoi = {\"<PAD>\": 0, \"<SOS>\": 1, \"<EOS>\": 2, \"<UNK>\": 3}\n",
        "\n",
        "    def get_vocab(self):\n",
        "        word2fre ={}\n",
        "        idx = 4 # >3!\n",
        "        self.max_length = 0\n",
        "        for caption in self.captions:\n",
        "          for i,word in enumerate(tokenizer_eng(caption)):\n",
        "            if word not in word2fre:\n",
        "              word2fre[word] = 1\n",
        "            else:\n",
        "              word2fre[word]+=1\n",
        "            # print(word2fre[word])\n",
        "            # print(word)\n",
        "            if i + 1 > self.max_length:\n",
        "              self.max_length = i + 1\n",
        "            if word2fre[word] == self.freq_threshold:\n",
        "              self.stoi[word] = idx\n",
        "              self.itos[idx] = word\n",
        "              idx += 1\n",
        "        print(len(word2fre))\n",
        "        # for work in word2fre:\n",
        "          \n",
        "              #print(idx)\n",
        "        print(len(self.stoi))\n",
        "\n",
        "\n",
        "def tokenizer_eng(text):\n",
        "    # return spacy_eng.tokenizer(text) # token text sử dụng spacy_eng.tokenizer\n",
        "    # return text.split()\n",
        "    return [tok.text.lower() for tok in spacy_eng.tokenizer(text)]\n",
        "\n",
        "\n",
        "def numericalize(text,stoi):\n",
        "    tokenized_text = tokenizer_eng(text)\n",
        "\n",
        "    return [\n",
        "        stoi[token] if token in stoi else stoi[\"<UNK>\"]\n",
        "        for token in tokenized_text\n",
        "    ]\n",
        "\n",
        "\n",
        "def clip_gradient(optimizer, grad_clip):\n",
        "    for group in optimizer.param_groups:\n",
        "        for param in group['params']:\n",
        "            if param.grad is not None:\n",
        "                param.grad.data.clamp_(-grad_clip, grad_clip)\n",
        "\n",
        "\n",
        "def save_checkpoint(epoch, encoder, decoder, encoder_optimizer, decoder_optimizer,model_save_path='flickr8k/model.pth'):\n",
        "  \n",
        "    state = {'epoch': epoch,       \n",
        "             'encoder': encoder,\n",
        "             'decoder': decoder,\n",
        "             'encoder_optimizer': encoder_optimizer,\n",
        "             'decoder_optimizer': decoder_optimizer}\n",
        "    filename = model_save_path + '.tar'\n",
        "    torch.save(state, filename)\n",
        "   \n"
      ],
      "execution_count": null,
      "outputs": []
    },
    {
      "cell_type": "code",
      "metadata": {
        "colab": {
          "base_uri": "https://localhost:8080/"
        },
        "id": "Js6RdldO8_1g",
        "outputId": "bdfe9409-8735-4775-fab9-0f3c1cbd8a86"
      },
      "source": [
        "for w in tokenizer_eng(\"i am super man\"):\n",
        "  print(w)"
      ],
      "execution_count": null,
      "outputs": [
        {
          "output_type": "stream",
          "name": "stdout",
          "text": [
            "i\n",
            "am\n",
            "super\n",
            "man\n"
          ]
        }
      ]
    },
    {
      "cell_type": "code",
      "metadata": {
        "id": "w4leQsgv-2wB"
      },
      "source": [
        "img_paths = glob.glob(os.path.join(img_folder,'*.jpg'))\n",
        "assert len(img_paths) == 8091 # số ảnh\n",
        "# print(img_paths)"
      ],
      "execution_count": null,
      "outputs": []
    },
    {
      "cell_type": "code",
      "metadata": {
        "id": "-ZG-CINn_K3u"
      },
      "source": [
        "img_names,captions = make_data()\n",
        "img_names_train,captions_train,img_names_val,captions_val,img_names_test,captions_test = split_data(img_names,captions)"
      ],
      "execution_count": null,
      "outputs": []
    },
    {
      "cell_type": "code",
      "metadata": {
        "colab": {
          "base_uri": "https://localhost:8080/",
          "height": 35
        },
        "id": "83W0NY8J9u1I",
        "outputId": "d04f2cee-783e-4606-c71b-93dac72352f2"
      },
      "source": [
        "captions_train[0]"
      ],
      "execution_count": null,
      "outputs": [
        {
          "output_type": "execute_result",
          "data": {
            "application/vnd.google.colaboratory.intrinsic+json": {
              "type": "string"
            },
            "text/plain": [
              "'A person in a striped fleece clips a carabiner onto a metal line .'"
            ]
          },
          "metadata": {},
          "execution_count": 10
        }
      ]
    },
    {
      "cell_type": "code",
      "metadata": {
        "colab": {
          "base_uri": "https://localhost:8080/"
        },
        "id": "9VpYOx50_Ykg",
        "outputId": "59f8c0f9-aa8b-4afb-d9e1-d6cdb643874f"
      },
      "source": [
        "vocab = Vocab(captions_train,freq_threshold)\n",
        "vocab.get_vocab()\n",
        "write_json(vocab.itos,itos_file)\n",
        "write_json(vocab.stoi,stoi_file)\n",
        "print(vocab.max_length)\n",
        "#assert vocab.max_length == 42\n",
        "stoi = read_json(stoi_file)\n",
        "print(len(stoi))\n",
        "#assert len(stoi) == 3576\n",
        "print(numericalize('Hello there, i am Manh',stoi))"
      ],
      "execution_count": null,
      "outputs": [
        {
          "output_type": "stream",
          "name": "stdout",
          "text": [
            "7507\n",
            "3470\n",
            "34\n",
            "3470\n",
            "[2608, 163, 3, 1332, 3, 3]\n"
          ]
        }
      ]
    },
    {
      "cell_type": "markdown",
      "metadata": {
        "id": "ME4o7DiVA1SS"
      },
      "source": [
        "# 2. Dataloader"
      ]
    },
    {
      "cell_type": "markdown",
      "metadata": {
        "id": "KvUuWFlUA7FM"
      },
      "source": [
        "- Tiếp theo chúng ta sẽ xây dựng một custom dataset trong torch nhé ! \n",
        "  - Chúng ta cần chú ý vào hàm `__getitem__(idx)`, trả về một sample có index là `idx` trong dataset chứa ảnh đã qua tiền xử lý, caption đã được encode, chiều dài caption, và tên ảnh(không quan trọng trong bài này)\n",
        "  - Ngoài ra cần viết thêm `__len__` trả về số samples"
      ]
    },
    {
      "cell_type": "code",
      "metadata": {
        "id": "o8lDzA5gBoFE"
      },
      "source": [
        "# Set một số hyperpara cần thiết nhé\n",
        "batch_size = 32\n",
        "num_workers = 4\n",
        "max_len = 34"
      ],
      "execution_count": null,
      "outputs": []
    },
    {
      "cell_type": "code",
      "metadata": {
        "id": "YGe0Gj8S_mYP"
      },
      "source": [
        "from torch.utils.data import DataLoader, Dataset\n",
        "import torchvision.transforms as transforms\n",
        "import torch\n",
        "import cv2\n",
        "\n",
        "\n",
        "class IMDataset(Dataset):\n",
        "\n",
        "    def __init__(self, img_names, captions,transform=None):\n",
        "        self.img_names = img_names\n",
        "        self.captions = captions\n",
        "        self.transform = transform\n",
        "        self.itos = read_json(itos_file) # đọc file tương ứng\n",
        "        self.stoi = read_json(stoi_file) # đọc file tương ứng     \n",
        "\n",
        "    def __len__(self):\n",
        "        return len(self.captions)\n",
        "\n",
        "    def encode(self,c):\n",
        "        c = numericalize(c,self.stoi)\n",
        "        self.c_len = len(c)\n",
        "        enc = [1] + c + [2] + [0] * (max_len - len(c))\n",
        "        return enc\n",
        "\n",
        "    def __getitem__(self, index):\n",
        "        caption = self.captions[index]\n",
        "        img_name = self.img_names[index]\n",
        "        img_path = 'flickr8k/images/' + img_name\n",
        "        img = cv2.imread(img_path) # đọc ảnh\n",
        "        img = img[:,:,::-1] # chuyển sang RGB\n",
        "        img = cv2.resize(img,(256,256)) # resize về (256,256)\n",
        "        img = torch.FloatTensor(img/255) # chuyển về kiểu FLoat, torch, đưa về (0-1)\n",
        "        img = img.permute(2,0,1)\n",
        "        if self.transform is not None:\n",
        "            img = self.transform(img)\n",
        "        enc = self.encode(caption)\n",
        "        caplen = self.c_len + 2 \n",
        "        return img, torch.LongTensor(enc),torch.LongTensor([caplen]),img_name"
      ],
      "execution_count": null,
      "outputs": []
    },
    {
      "cell_type": "code",
      "metadata": {
        "colab": {
          "base_uri": "https://localhost:8080/"
        },
        "id": "fsWTnxQDB2W_",
        "outputId": "7f3be9bf-72fd-4259-be69-e922290c5316"
      },
      "source": [
        "import random \n",
        "import matplotlib.pyplot as plt\n",
        "import numpy as np\n",
        "\n",
        "transform = transforms.Compose(\n",
        "        [transforms.Resize((224, 224))]\n",
        ")\n",
        "\n",
        "dataset = IMDataset(img_names_test,captions_test, transform=transform)\n",
        "pad_idx = dataset.stoi[\"<PAD>\"]\n",
        "itos = dataset.itos\n",
        "loader = DataLoader(\n",
        "        dataset=dataset,\n",
        "        batch_size=batch_size,\n",
        "        num_workers=num_workers,\n",
        ")\n",
        "# len(loader)\n",
        "# print(iter(loader).next())\n",
        "imgs, captions, _, _ =  iter(loader).next()\n",
        "print(imgs.shape)"
      ],
      "execution_count": null,
      "outputs": [
        {
          "output_type": "stream",
          "name": "stderr",
          "text": [
            "/usr/local/lib/python3.7/dist-packages/torch/utils/data/dataloader.py:481: UserWarning: This DataLoader will create 4 worker processes in total. Our suggested max number of worker in current system is 2, which is smaller than what this DataLoader is going to create. Please be aware that excessive worker creation might get DataLoader running slow or even freeze, lower the worker number to avoid potential slowness/freeze if necessary.\n",
            "  cpuset_checked))\n"
          ]
        },
        {
          "output_type": "stream",
          "name": "stdout",
          "text": [
            "torch.Size([32, 3, 224, 224])\n"
          ]
        }
      ]
    },
    {
      "cell_type": "code",
      "metadata": {
        "colab": {
          "base_uri": "https://localhost:8080/",
          "height": 265
        },
        "id": "iQWLLdcUxnta",
        "outputId": "5eca5644-bfda-4e9f-a990-527549033838"
      },
      "source": [
        "def plot(imgs,captions):\n",
        "  idx = random.choice(range(len(imgs)))\n",
        "  img = imgs[idx]\n",
        "  caption = captions[idx].detach().cpu().numpy()\n",
        "  #print(caption)\n",
        "  caption = ' '.join([itos[str(x)] for x in caption if x != 0 and x!=1 and x!=2])\n",
        "  img = img.permute(1,2,0).detach().cpu().numpy()\n",
        "  plt.axis('off')\n",
        "  plt.imshow(img)\n",
        "  print(caption)\n",
        "  plt.show()\n",
        "\n",
        "plot(imgs,captions)"
      ],
      "execution_count": null,
      "outputs": [
        {
          "output_type": "stream",
          "name": "stdout",
          "text": [
            "two girls are using a flip <UNK> whilst talking to some younger children .\n"
          ]
        },
        {
          "output_type": "display_data",
          "data": {
            "image/png": "[encoded data removed]",
            "text/plain": [
              "<Figure size 432x288 with 1 Axes>"
            ]
          },
          "metadata": {
            "needs_background": "light"
          }
        }
      ]
    },
    {
      "cell_type": "markdown",
      "metadata": {
        "id": "kn9kp0rBDGX7"
      },
      "source": [
        "# 3. Model\n",
        "\n",
        "- Chúng ta sẽ implement model có kiến trúc như sau : \n",
        "\n",
        "  - Trong phần encoder, chúng ta finetune resnet101 một chút, dùng để encode ảnh\n",
        "  - Phần decoder sẽ sử dụng cơ chế attention, những phần nào quan trọng trên bức ảnh sẽ được đánh trọng số cao hơn trong quá trình học. Ngoài ra phần decoder sẽ có 2 thứ quan trọng nữa là Embedding và LSTM. \n",
        "\n",
        "![](https://github.com/sgrvinod/a-PyTorch-Tutorial-to-Image-Captioning/blob/master/img/model.png?raw=true)\n"
      ]
    },
    {
      "cell_type": "markdown",
      "metadata": {
        "id": "5Tq3JYtkYSzj"
      },
      "source": [
        "## 3.1 Encoder"
      ]
    },
    {
      "cell_type": "code",
      "metadata": {
        "id": "yuetBL1UlwYj"
      },
      "source": [
        "device = \"cuda\" if torch.cuda.is_available() else \"cpu\"\n",
        "# assert device == 'cuda'"
      ],
      "execution_count": null,
      "outputs": []
    },
    {
      "cell_type": "code",
      "metadata": {
        "id": "IV0E15IvB9Ff"
      },
      "source": [
        "import torch.nn as nn\n",
        "\n",
        "class Encoder(nn.Module):\n",
        "    def __init__(self, encoded_image_size=14):\n",
        "        super(Encoder, self).__init__()\n",
        "        self.enc_image_size = encoded_image_size\n",
        "        resnet = torchvision.models.resnet101(pretrained=True)  # pretrained ImageNet ResNet-101\n",
        "\n",
        "        #chúng ta không cần sử dụng 2 layers cuối của resnet101\n",
        "        modules = list(resnet.children())[:-2]\n",
        "        self.resnet = nn.Sequential(*modules)\n",
        "        self.adaptive_pool = nn.AdaptiveAvgPool2d((encoded_image_size, encoded_image_size))\n",
        "        self.fine_tune()\n",
        "\n",
        "    def forward(self, images):  # images có shape (batch_size, 3, image_size, image_size)\n",
        "        out = self.resnet(images)  # (batch_size, 2048, image_size/32, image_size/32)\n",
        "        out = self.adaptive_pool(out)  # (batch_size, 2048, encoded_image_size, encoded_image_size)\n",
        "        out = out.permute(0, 2, 3, 1)  # (batch_size, encoded_image_size, encoded_image_size, 2048)\n",
        "        return out\n",
        "\n",
        "    def fine_tune(self, fine_tune=True):\n",
        "        for p in self.resnet.parameters():\n",
        "            p.requires_grad = False\n",
        "        for c in list(self.resnet.children())[5:]:\n",
        "            for p in c.parameters():\n",
        "                p.requires_grad = fine_tune"
      ],
      "execution_count": null,
      "outputs": []
    },
    {
      "cell_type": "markdown",
      "metadata": {
        "id": "UzuwBn4eYZ8D"
      },
      "source": [
        "## 3.2 Decoder"
      ]
    },
    {
      "cell_type": "code",
      "metadata": {
        "id": "7dQGiGQzDjay"
      },
      "source": [
        "class Attention(nn.Module):\n",
        "    def __init__(self, encoder_dim, decoder_dim, attention_dim):\n",
        "        super(Attention, self).__init__()\n",
        "        self.encoder_att = nn.Linear(encoder_dim, attention_dim)  \n",
        "        self.decoder_att = nn.Linear(decoder_dim, attention_dim) \n",
        "        self.full_att = nn.Linear(attention_dim, 1)  \n",
        "        self.relu = nn.ReLU()\n",
        "        self.softmax = nn.Softmax(dim=1) \n",
        "\n",
        "    def forward(self, encoder_out, decoder_hidden):\n",
        "        att1 = self.encoder_att(encoder_out)  # (batch_size, num_pixels, attention_dim)\n",
        "        att2 = self.decoder_att(decoder_hidden)  # (batch_size, attention_dim)\n",
        "        att = self.full_att(self.relu(att1 + att2.unsqueeze(1))).squeeze(2)  # (batch_size, num_pixels)\n",
        "        alpha = self.softmax(att)  # (batch_size, num_pixels)\n",
        "        attention_weighted_encoding = (encoder_out * alpha.unsqueeze(2)).sum(dim=1)  # (batch_size, encoder_dim)\n",
        "        return attention_weighted_encoding, alpha"
      ],
      "execution_count": null,
      "outputs": []
    },
    {
      "cell_type": "code",
      "metadata": {
        "id": "Zf3z4vw8Djzy"
      },
      "source": [
        "class DecoderWithAttention(nn.Module):\n",
        "\n",
        "    def __init__(self, attention_dim, embed_dim, decoder_dim, vocab_size, encoder_dim=256, dropout=0.5):\n",
        "        super(DecoderWithAttention, self).__init__()\n",
        "        self.encoder_dim = encoder_dim\n",
        "        self.attention_dim = attention_dim\n",
        "        self.embed_dim = embed_dim\n",
        "        self.decoder_dim = decoder_dim\n",
        "        self.vocab_size = vocab_size\n",
        "        self.dropout = dropout\n",
        "        self.attention = Attention(encoder_dim, decoder_dim, attention_dim)  \n",
        "        self.embedding = nn.Embedding(vocab_size, embed_dim)  # embedding layer\n",
        "        self.dropout = nn.Dropout(p=self.dropout)\n",
        "        self.decode_step = nn.LSTMCell(embed_dim + encoder_dim, decoder_dim, bias=True)  # decoding LSTMCell\n",
        "        self.init_h = nn.Linear(encoder_dim, decoder_dim) \n",
        "        self.init_c = nn.Linear(encoder_dim, decoder_dim) \n",
        "        self.f_beta = nn.Linear(decoder_dim, encoder_dim)  \n",
        "        self.sigmoid = nn.Sigmoid()\n",
        "        self.fc = nn.Linear(decoder_dim, vocab_size)  # linear layer to find scores over vocabulary\n",
        "        self.init_weights()  \n",
        "\n",
        "    def init_weights(self):\n",
        "        \"\"\"\n",
        "        Khởi tạo một số tham số với giá trị trong phân bố uniform giúp hội tụ dễ hơn\n",
        "        \"\"\"\n",
        "        self.embedding.weight.data.uniform_(-0.1, 0.1)\n",
        "        self.fc.bias.data.fill_(0)\n",
        "        self.fc.weight.data.uniform_(-0.1, 0.1)\n",
        "\n",
        "    def load_pretrained_embeddings(self, embeddings):\n",
        "        \"\"\"\n",
        "        Hàm này load pretrained embeddings(input) \n",
        "        \"\"\"\n",
        "        self.embedding.weight = nn.Parameter(embeddings)\n",
        "\n",
        "    def fine_tune_embeddings(self, fine_tune=True):\n",
        "        \"\"\"\n",
        "        Bạn có finetune pretrained Embedding không!\n",
        "        \"\"\"\n",
        "        for p in self.embedding.parameters():\n",
        "            p.requires_grad = fine_tune\n",
        "\n",
        "    def init_hidden_state(self, encoder_out):\n",
        "        \"\"\"\n",
        "        Tạo initial hidden và cell states cho decoder's LSTM dựa trên ảnh đã encode. Trả về hidden state & cell state\n",
        "        \"\"\"\n",
        "        mean_encoder_out = encoder_out.mean(dim=1)\n",
        "        h = self.init_h(mean_encoder_out)  # (batch_size, decoder_dim)\n",
        "        c = self.init_c(mean_encoder_out)\n",
        "        return h, c\n",
        "\n",
        "    def forward(self, encoder_out, encoded_captions, caption_lengths):\n",
        "        batch_size = encoder_out.size(0)\n",
        "        encoder_dim = encoder_out.size(-1)\n",
        "        vocab_size = self.vocab_size\n",
        "\n",
        "        # Flatten image\n",
        "        encoder_out = encoder_out.view(batch_size, -1, encoder_dim)  # (batch_size, num_pixels, encoder_dim)\n",
        "        num_pixels = encoder_out.size(1)\n",
        "\n",
        "        # Sắp xếp lại input data theo chiều giảm dần lengths\n",
        "        caption_lengths, sort_ind = caption_lengths.squeeze(1).sort(dim=0, descending=True)\n",
        "        encoder_out = encoder_out[sort_ind]\n",
        "        encoded_captions = encoded_captions[sort_ind]\n",
        "\n",
        "        # Embedding\n",
        "        embeddings = self.embedding(encoded_captions)  # (batch_size, max_caption_length, embed_dim)\n",
        "\n",
        "        # khởi tạo LSTM state\n",
        "        h, c = self.init_hidden_state(encoder_out)  # (batch_size, decoder_dim)\n",
        "\n",
        "        # chúng ta không cần decode vị trí cuối cùng (<end>) nên có thể kết thức quá trình decode ở đây, `decoding_lengths` sẽ là `caption_lengths - 1)`\n",
        "        decode_lengths = (caption_lengths - 1).tolist()\n",
        "\n",
        "        # Tạo tensor để lưu lại word predicion và alphas\n",
        "        predictions = torch.zeros(batch_size, max(decode_lengths), vocab_size).to(device)\n",
        "        alphas = torch.zeros(batch_size, max(decode_lengths), num_pixels).to(device)\n",
        "\n",
        "        # Ở mỗi timestep, chúng ta tạo ra từ mới dựa trên attention weight(dựa vào ) và từ trước đó\n",
        "        for t in range(max(decode_lengths)):\n",
        "            batch_size_t = sum([l > t for l in decode_lengths]) \n",
        "            attention_weighted_encoding, alpha = self.attention(encoder_out[:batch_size_t],\n",
        "                                                                h[:batch_size_t])\n",
        "            gate = self.sigmoid(self.f_beta(h[:batch_size_t]))  # gating scalar, (batch_size_t, encoder_dim)\n",
        "            attention_weighted_encoding = gate * attention_weighted_encoding\n",
        "            h, c = self.decode_step(\n",
        "                torch.cat([embeddings[:batch_size_t, t, :], attention_weighted_encoding], dim=1),\n",
        "                (h[:batch_size_t], c[:batch_size_t]))  # (batch_size_t, decoder_dim)\n",
        "            preds = self.fc(self.dropout(h))  # (batch_size_t, vocab_size)\n",
        "            predictions[:batch_size_t, t, :] = preds\n",
        "            alphas[:batch_size_t, t, :] = alpha\n",
        "        return predictions, encoded_captions, decode_lengths, alphas, sort_ind"
      ],
      "execution_count": null,
      "outputs": []
    },
    {
      "cell_type": "markdown",
      "metadata": {
        "id": "CGYmLymxDv-O"
      },
      "source": [
        "# 4. Train"
      ]
    },
    {
      "cell_type": "code",
      "metadata": {
        "id": "bACvHpBDEs9U"
      },
      "source": [
        "alpha_c = 1\n",
        "encoder_lr = 1e-4  \n",
        "decoder_lr = 4e-4 \n",
        "num_epochs = 10\n",
        "\n",
        "# Một số hyperpara quan trọng của model\n",
        "emb_dim = 512  # dimension của word embeddings\n",
        "attention_dim = 512  # dimension của attention linear layers\n",
        "decoder_dim = 512  # dimension của decoder RNN\n",
        "dropout = 0.5\n",
        "\n",
        "save_log = \"flickr8k/log.csv\"\n"
      ],
      "execution_count": null,
      "outputs": []
    },
    {
      "cell_type": "code",
      "metadata": {
        "id": "BYk867egDc6-"
      },
      "source": [
        "from tqdm import tqdm\n",
        "from torch.nn.utils.rnn import pack_padded_sequence\n",
        "import pandas as pd\n",
        "import torch.nn.functional as F\n",
        "\n",
        "def train(train_loader, encoder, decoder, criterion, encoder_optimizer, decoder_optimizer):\n",
        "  \n",
        "    decoder.train() \n",
        "    encoder.train()\n",
        "    losses = 0\n",
        "    for imgs, caps, caplens,_ in tqdm(train_loader):      \n",
        "        imgs,caps,caplens = imgs.to(device), caps.to(device), caplens.to(device) # device\n",
        "        encoder_out = encoder(imgs)\n",
        "        scores, caps_sorted, decode_lengths, alphas, sort_ind = decoder(imgs, caps, caplens)\n",
        "        targets = caps_sorted[:, 1:] # không tính token đầu (<start>)\n",
        "        # Sử dụng pack_padded_sequence để  remove timesteps mà chúng ta không cần decode đến(thừa), hoặc pad nếu còn thiếu\n",
        "        scores = pack_padded_sequence(scores, decode_lengths, batch_first=True)\n",
        "        targets = pack_padded_sequence(targets, decode_lengths, batch_first=True)\n",
        "        loss = criterion(scores.data, targets.data)\n",
        "        loss += alpha_c * ((1. - alphas.sum(dim=1)) ** 2).mean()\n",
        "        losses += loss.item()\n",
        "        decoder_optimizer.zero_grad() # zero_grad cho decoder\n",
        "        if encoder_optimizer is not None: # giữ lại None này\n",
        "            encoder_optimizer.zero_grad()  #  zero_grad cho encoder\n",
        "        loss.backward() # backward\n",
        "        if grad_clip is not None: # giữ lại None này\n",
        "            clip_gradient(decoder_optimizer, grad_clip)\n",
        "            if encoder_optimizer is not None: # giữ lại None này\n",
        "                clip_gradient(encoder_optimizer, grad_clip)\n",
        "        decoder_optimizer.step()\n",
        "        if encoder_optimizer is not None:  # giữ lại None này\n",
        "            encoder_optimizer.step()\n",
        "    return losses\n",
        "\n",
        "\n",
        "def validate(val_loader, encoder, decoder, criterion,is_training=True):\n",
        "    decoder.eval()  \n",
        "    if encoder is not None: # giữ lại None này\n",
        "        encoder.eval()\n",
        "    losses = 0\n",
        "    with torch.no_grad():\n",
        "      if is_training:\n",
        "        for imgs, caps, caplens,_ in tqdm(val_loader):\n",
        "            imgs,caps,caplens = imgs.to(device), caps.to(device), caplens.to(device) # device\n",
        "            if encoder is not None: # giữ lại None này\n",
        "                encoded_imgs = encoder(imgs)\n",
        "            scores, caps_sorted, decode_lengths, alphas, sort_ind = decoder(imgs, caps, caplens)\n",
        "            targets = caps_sorted[:, 1:] \n",
        "            scores_copy = scores.clone()\n",
        "            scores = pack_padded_sequence(scores, decode_lengths, batch_first=True)\n",
        "            targets = pack_padded_sequence(targets, decode_lengths, batch_first=True)\n",
        "            loss = criterion(scores.data, targets.data)\n",
        "            loss += alpha_c * ((1. - alphas.sum(dim=1)) ** 2).mean()\n",
        "            losses += loss.item()\n",
        "            return losses\n",
        "      else:\n",
        "            imgs, caps, caplens,_ = iter(val_loader).next()\n",
        "            imgs,caps,caplens = imgs.to(device), caps.to(device), caplens.to(device) # device\n",
        "            if encoder is not None:  # giữ lại None này\n",
        "                encoded_imgs = encoder(imgs)\n",
        "            scores, caps_sorted, decode_lengths, alphas, sort_ind = decoder(imgs, caps, caplens)\n",
        "            targets = caps_sorted[:, 1:] \n",
        "            # scores = pack_padded_sequence(scores, decode_lengths, batch_first=True)\n",
        "            scores_copy = scores.clone()\n",
        "            scores = F.log_softmax(scores_copy,1) # log softmax, chú ý dim\n",
        "            scores = torch.argmax(scores,2,keepdim=True) # argmax, chú ý dim, và nhớ keepdim=True\n",
        "            plot(imgs,torch.squeeze(scores,dim=2))"
      ],
      "execution_count": 38,
      "outputs": []
    },
    {
      "cell_type": "code",
      "metadata": {
        "id": "Ly6w_5t-EELF"
      },
      "source": [
        "def trainer(is_train=True):    \n",
        "\n",
        "    normalize = transforms.Normalize(mean=[0.485, 0.456, 0.406],\n",
        "                                     std=[0.229, 0.224, 0.225])\n",
        "\n",
        "    transform = normalize\n",
        "    stoi = read_json(stoi_file) # đọc file tương ứng\n",
        "    pad_idx = 0 # index của <'PAD'> trong stoi\n",
        "\n",
        "    # Train_loader, val_loader, test_loader\n",
        "    train_loader = DataLoader(\n",
        "        dataset = IMDataset(img_names_train,captions_train, transform=transform),\n",
        "        batch_size = batch_size,\n",
        "        num_workers = num_workers,\n",
        "    )\n",
        "    val_loader = DataLoader(\n",
        "        dataset = IMDataset(img_names_val,captions_val, transform=transform),\n",
        "        batch_size = batch_size,\n",
        "        num_workers = num_workers,\n",
        "    )\n",
        "    test_loader = DataLoader(\n",
        "        dataset = IMDataset(img_names_test,captions_test, transform=transform),\n",
        "        batch_size = batch_size,\n",
        "        num_workers = num_workers,\n",
        "    )\n",
        "\n",
        "    decoder = DecoderWithAttention(attention_dim, emb_dim,decoder_dim=decoder_dim,vocab_size=len(stoi),dropout=dropout) # gọi decoder\n",
        "    encoder = Encoder()\n",
        "    fine_tune_encoder = False\n",
        "    encoder.fine_tune(fine_tune_encoder)\n",
        "\n",
        "    decoder, encoder = decoder.to(device) , encoder.to(device) # device\n",
        "\n",
        "    try:\n",
        "      checkpoint = torch.load(model_save_path+'.tar')\n",
        "      decoder = checkpoint['decoder']\n",
        "      encoder = checkpoint['encoder']\n",
        "    except:\n",
        "      pass\n",
        "\n",
        "    decoder_optimizer = torch.optim.Adam(params=filter(lambda p: p.requires_grad, decoder.parameters()),\n",
        "                                             lr=decoder_lr)\n",
        "    encoder_optimizer = torch.optim.Adam(params=filter(lambda p: p.requires_grad, encoder.parameters()),\n",
        "                                             lr=encoder_lr) if fine_tune_encoder else None\n",
        "\n",
        "    criterion = nn.CrossEntropyLoss().to(device)\n",
        "    best_loss_val = 99999\n",
        "    log = []\n",
        "    if is_train:\n",
        "      for epoch in range(num_epochs + 1):\n",
        "          train_loss = train(train_loader,encoder,decoder,criterion,encoder_optimizer,decoder_optimizer)\n",
        "          val_loss = validate(val_loader,encoder,decoder,criterion)\n",
        "          log_epoch = {\"epoch\": epoch + 1, \"train_loss\": train_loss, \"val_loss\": val_loss}\n",
        "          log.append(log_epoch)\n",
        "          df = pd.DataFrame(log)\n",
        "          df.to_csv(save_log)\n",
        "          if val_loss < best_loss_val:\n",
        "              best_loss_val = val_loss\n",
        "              save_checkpoint(epoch,encoder,decoder,encoder_optimizer,decoder_optimizer) # lưu checkpoint\n",
        "          print(\"Epoch {} || epoch_train_loss: {:.4f} || Epoch_val_loss: {:.4f} \".format(epoch + 1, train_loss, val_loss))\n",
        "    else:\n",
        "        validate(test_loader, encoder, decoder, criterion,is_training=is_train)"
      ],
      "execution_count": null,
      "outputs": []
    },
    {
      "cell_type": "code",
      "metadata": {
        "colab": {
          "base_uri": "https://localhost:8080/"
        },
        "id": "KmkEUEc4FLMj",
        "outputId": "f2d826d2-5ef8-4455-b4f4-97233f7cb3b5"
      },
      "source": [
        "trainer() "
      ],
      "execution_count": 28,
      "outputs": [
        {
          "metadata": {
            "tags": null
          },
          "name": "stderr",
          "output_type": "stream",
          "text": [
            "/usr/local/lib/python3.7/dist-packages/torch/utils/data/dataloader.py:481: UserWarning: This DataLoader will create 4 worker processes in total. Our suggested max number of worker in current system is 2, which is smaller than what this DataLoader is going to create. Please be aware that excessive worker creation might get DataLoader running slow or even freeze, lower the worker number to avoid potential slowness/freeze if necessary.\n",
            "  cpuset_checked))\n",
            "  5%|▌         | 52/961 [00:41<11:24,  1.33it/s]Exception ignored in: <function _MultiProcessingDataLoaderIter.__del__ at 0x7f8e5355b950>\n",
            "Traceback (most recent call last):\n",
            "  File \"/usr/local/lib/python3.7/dist-packages/torch/utils/data/dataloader.py\", line 1328, in __del__\n",
            "    self._shutdown_workers()\n",
            "  File \"/usr/local/lib/python3.7/dist-packages/torch/utils/data/dataloader.py\", line 1320, in _shutdown_workers\n",
            "    if w.is_alive():\n",
            "  File \"/usr/lib/python3.7/multiprocessing/process.py\", line 151, in is_alive\n",
            "    assert self._parent_pid == os.getpid(), 'can only test a child process'\n",
            "AssertionError: can only test a child process\n",
            "Exception ignored in: <function _MultiProcessingDataLoaderIter.__del__ at 0x7f8e5355b950>\n",
            "Traceback (most recent call last):\n",
            "  File \"/usr/local/lib/python3.7/dist-packages/torch/utils/data/dataloader.py\", line 1328, in __del__\n",
            "    self._shutdown_workers()\n",
            "  File \"/usr/local/lib/python3.7/dist-packages/torch/utils/data/dataloader.py\", line 1320, in _shutdown_workers\n",
            "    if w.is_alive():\n",
            "  File \"/usr/lib/python3.7/multiprocessing/process.py\", line 151, in is_alive\n",
            "    assert self._parent_pid == os.getpid(), 'can only test a child process'\n",
            "AssertionError: can only test a child process\n",
            "Exception ignored in: <function _MultiProcessingDataLoaderIter.__del__ at 0x7f8e5355b950>\n",
            "Traceback (most recent call last):\n",
            "  File \"/usr/local/lib/python3.7/dist-packages/torch/utils/data/dataloader.py\", line 1328, in __del__\n",
            "    self._shutdown_workers()\n",
            "  File \"/usr/local/lib/python3.7/dist-packages/torch/utils/data/dataloader.py\", line 1320, in _shutdown_workers\n",
            "    if w.is_alive():\n",
            "  File \"/usr/lib/python3.7/multiprocessing/process.py\", line 151, in is_alive\n",
            "    assert self._parent_pid == os.getpid(), 'can only test a child process'\n",
            "AssertionError: can only test a child process\n",
            "  8%|▊         | 79/961 [01:01<11:18,  1.30it/s]Exception ignored in: <function _MultiProcessingDataLoaderIter.__del__ at 0x7f8e5355b950>\n",
            "Traceback (most recent call last):\n",
            "  File \"/usr/local/lib/python3.7/dist-packages/torch/utils/data/dataloader.py\", line 1328, in __del__\n",
            "    self._shutdown_workers()\n",
            "  File \"/usr/local/lib/python3.7/dist-packages/torch/utils/data/dataloader.py\", line 1320, in _shutdown_workers\n",
            "    if w.is_alive():\n",
            "  File \"/usr/lib/python3.7/multiprocessing/process.py\", line 151, in is_alive\n",
            "    assert self._parent_pid == os.getpid(), 'can only test a child process'\n",
            "AssertionError: can only test a child process\n",
            "Exception ignored in: <function _MultiProcessingDataLoaderIter.__del__ at 0x7f8e5355b950>\n",
            "Traceback (most recent call last):\n",
            "  File \"/usr/local/lib/python3.7/dist-packages/torch/utils/data/dataloader.py\", line 1328, in __del__\n",
            "    self._shutdown_workers()\n",
            "  File \"/usr/local/lib/python3.7/dist-packages/torch/utils/data/dataloader.py\", line 1320, in _shutdown_workers\n",
            "    if w.is_alive():\n",
            "  File \"/usr/lib/python3.7/multiprocessing/process.py\", line 151, in is_alive\n",
            "    assert self._parent_pid == os.getpid(), 'can only test a child process'\n",
            "AssertionError: can only test a child process\n",
            "Exception ignored in: <function _MultiProcessingDataLoaderIter.__del__ at 0x7f8e5355b950>\n",
            "Traceback (most recent call last):\n",
            "  File \"/usr/local/lib/python3.7/dist-packages/torch/utils/data/dataloader.py\", line 1328, in __del__\n",
            "    self._shutdown_workers()\n",
            "  File \"/usr/local/lib/python3.7/dist-packages/torch/utils/data/dataloader.py\", line 1320, in _shutdown_workers\n",
            "    if w.is_alive():\n",
            "  File \"/usr/lib/python3.7/multiprocessing/process.py\", line 151, in is_alive\n",
            "    assert self._parent_pid == os.getpid(), 'can only test a child process'\n",
            "AssertionError: can only test a child process\n",
            " 12%|█▏        | 118/961 [01:31<10:42,  1.31it/s]Exception ignored in: <function _MultiProcessingDataLoaderIter.__del__ at 0x7f8e5355b950>\n",
            "Traceback (most recent call last):\n",
            "  File \"/usr/local/lib/python3.7/dist-packages/torch/utils/data/dataloader.py\", line 1328, in __del__\n",
            "    self._shutdown_workers()\n",
            "  File \"/usr/local/lib/python3.7/dist-packages/torch/utils/data/dataloader.py\", line 1320, in _shutdown_workers\n",
            "    if w.is_alive():\n",
            "  File \"/usr/lib/python3.7/multiprocessing/process.py\", line 151, in is_alive\n",
            "    assert self._parent_pid == os.getpid(), 'can only test a child process'\n",
            "AssertionError: can only test a child process\n",
            "Exception ignored in: <function _MultiProcessingDataLoaderIter.__del__ at 0x7f8e5355b950>\n",
            "Traceback (most recent call last):\n",
            "  File \"/usr/local/lib/python3.7/dist-packages/torch/utils/data/dataloader.py\", line 1328, in __del__\n",
            "    self._shutdown_workers()\n",
            "  File \"/usr/local/lib/python3.7/dist-packages/torch/utils/data/dataloader.py\", line 1320, in _shutdown_workers\n",
            "    if w.is_alive():\n",
            "  File \"/usr/lib/python3.7/multiprocessing/process.py\", line 151, in is_alive\n",
            "    assert self._parent_pid == os.getpid(), 'can only test a child process'\n",
            "AssertionError: can only test a child process\n",
            "Exception ignored in: <function _MultiProcessingDataLoaderIter.__del__ at 0x7f8e5355b950>\n",
            "Traceback (most recent call last):\n",
            "  File \"/usr/local/lib/python3.7/dist-packages/torch/utils/data/dataloader.py\", line 1328, in __del__\n",
            "    self._shutdown_workers()\n",
            "  File \"/usr/local/lib/python3.7/dist-packages/torch/utils/data/dataloader.py\", line 1320, in _shutdown_workers\n",
            "    if w.is_alive():\n",
            "  File \"/usr/lib/python3.7/multiprocessing/process.py\", line 151, in is_alive\n",
            "    assert self._parent_pid == os.getpid(), 'can only test a child process'\n",
            "AssertionError: can only test a child process\n",
            " 15%|█▍        | 140/961 [01:47<10:18,  1.33it/s]Exception ignored in: <function _MultiProcessingDataLoaderIter.__del__ at 0x7f8e5355b950>\n",
            "Traceback (most recent call last):\n",
            "  File \"/usr/local/lib/python3.7/dist-packages/torch/utils/data/dataloader.py\", line 1328, in __del__\n",
            "    self._shutdown_workers()\n",
            " 15%|█▍        | 141/961 [01:48<10:27,  1.31it/s]  File \"/usr/local/lib/python3.7/dist-packages/torch/utils/data/dataloader.py\", line 1320, in _shutdown_workers\n",
            "  File \"/usr/lib/python3.7/multiprocessing/process.py\", line 151, in is_alive\n",
            "    if w.is_alive():\n",
            "    assert self._parent_pid == os.getpid(), 'can only test a child process'\n",
            "AssertionError: can only test a child process\n",
            "Exception ignored in: <function _MultiProcessingDataLoaderIter.__del__ at 0x7f8e5355b950>\n",
            "Traceback (most recent call last):\n",
            "  File \"/usr/local/lib/python3.7/dist-packages/torch/utils/data/dataloader.py\", line 1328, in __del__\n",
            "    self._shutdown_workers()\n",
            "  File \"/usr/local/lib/python3.7/dist-packages/torch/utils/data/dataloader.py\", line 1320, in _shutdown_workers\n",
            "    if w.is_alive():\n",
            "  File \"/usr/lib/python3.7/multiprocessing/process.py\", line 151, in is_alive\n",
            "    assert self._parent_pid == os.getpid(), 'can only test a child process'\n",
            "AssertionError: can only test a child process\n",
            "Exception ignored in: <function _MultiProcessingDataLoaderIter.__del__ at 0x7f8e5355b950>\n",
            "Traceback (most recent call last):\n",
            "  File \"/usr/local/lib/python3.7/dist-packages/torch/utils/data/dataloader.py\", line 1328, in __del__\n",
            "    self._shutdown_workers()\n",
            "  File \"/usr/local/lib/python3.7/dist-packages/torch/utils/data/dataloader.py\", line 1320, in _shutdown_workers\n",
            "    if w.is_alive():\n",
            "  File \"/usr/lib/python3.7/multiprocessing/process.py\", line 151, in is_alive\n",
            "    assert self._parent_pid == os.getpid(), 'can only test a child process'\n",
            "AssertionError: can only test a child process\n",
            "100%|██████████| 961/961 [12:05<00:00,  1.33it/s]\n",
            "  0%|          | 0/241 [00:02<?, ?it/s]\n"
          ]
        },
        {
          "metadata": {
            "tags": null
          },
          "name": "stdout",
          "output_type": "stream",
          "text": [
            "Epoch 1 || epoch_train_loss: 4761.9936 || Epoch_val_loss: 4.2033 \n"
          ]
        },
        {
          "metadata": {
            "tags": null
          },
          "name": "stderr",
          "output_type": "stream",
          "text": [
            "100%|██████████| 961/961 [12:03<00:00,  1.33it/s]\n",
            "  0%|          | 0/241 [00:02<?, ?it/s]\n"
          ]
        },
        {
          "metadata": {
            "tags": null
          },
          "name": "stdout",
          "output_type": "stream",
          "text": [
            "Epoch 2 || epoch_train_loss: 4110.4017 || Epoch_val_loss: 3.9582 \n"
          ]
        },
        {
          "metadata": {
            "tags": null
          },
          "name": "stderr",
          "output_type": "stream",
          "text": [
            "100%|██████████| 961/961 [12:02<00:00,  1.33it/s]\n",
            "  0%|          | 0/241 [00:02<?, ?it/s]\n"
          ]
        },
        {
          "metadata": {
            "tags": null
          },
          "name": "stdout",
          "output_type": "stream",
          "text": [
            "Epoch 3 || epoch_train_loss: 3902.8512 || Epoch_val_loss: 3.8423 \n"
          ]
        },
        {
          "metadata": {
            "tags": null
          },
          "name": "stderr",
          "output_type": "stream",
          "text": [
            "100%|██████████| 961/961 [12:00<00:00,  1.33it/s]\n",
            "  0%|          | 0/241 [00:03<?, ?it/s]\n"
          ]
        },
        {
          "metadata": {
            "tags": null
          },
          "name": "stdout",
          "output_type": "stream",
          "text": [
            "Epoch 4 || epoch_train_loss: 3769.8515 || Epoch_val_loss: 3.7560 \n"
          ]
        },
        {
          "metadata": {
            "tags": null
          },
          "name": "stderr",
          "output_type": "stream",
          "text": [
            "100%|██████████| 961/961 [12:00<00:00,  1.33it/s]\n",
            "  0%|          | 0/241 [00:02<?, ?it/s]\n"
          ]
        },
        {
          "metadata": {
            "tags": null
          },
          "name": "stdout",
          "output_type": "stream",
          "text": [
            "Epoch 5 || epoch_train_loss: 3666.2178 || Epoch_val_loss: 3.7153 \n"
          ]
        },
        {
          "metadata": {
            "tags": null
          },
          "name": "stderr",
          "output_type": "stream",
          "text": [
            "100%|██████████| 961/961 [11:59<00:00,  1.34it/s]\n",
            "  0%|          | 0/241 [00:03<?, ?it/s]\n"
          ]
        },
        {
          "metadata": {
            "tags": null
          },
          "name": "stdout",
          "output_type": "stream",
          "text": [
            "Epoch 6 || epoch_train_loss: 3580.7023 || Epoch_val_loss: 3.6807 \n"
          ]
        },
        {
          "metadata": {
            "tags": null
          },
          "name": "stderr",
          "output_type": "stream",
          "text": [
            "100%|██████████| 961/961 [11:59<00:00,  1.34it/s]\n",
            "  0%|          | 0/241 [00:02<?, ?it/s]\n"
          ]
        },
        {
          "metadata": {
            "tags": null
          },
          "name": "stdout",
          "output_type": "stream",
          "text": [
            "Epoch 7 || epoch_train_loss: 3503.5218 || Epoch_val_loss: 3.6678 \n"
          ]
        },
        {
          "metadata": {
            "tags": null
          },
          "name": "stderr",
          "output_type": "stream",
          "text": [
            "100%|██████████| 961/961 [12:00<00:00,  1.33it/s]\n",
            "  0%|          | 0/241 [00:03<?, ?it/s]\n"
          ]
        },
        {
          "metadata": {
            "tags": null
          },
          "name": "stdout",
          "output_type": "stream",
          "text": [
            "Epoch 8 || epoch_train_loss: 3434.2380 || Epoch_val_loss: 3.6457 \n"
          ]
        },
        {
          "metadata": {
            "tags": null
          },
          "name": "stderr",
          "output_type": "stream",
          "text": [
            "100%|██████████| 961/961 [12:00<00:00,  1.33it/s]\n",
            "  0%|          | 0/241 [00:02<?, ?it/s]\n"
          ]
        },
        {
          "metadata": {
            "tags": null
          },
          "name": "stdout",
          "output_type": "stream",
          "text": [
            "Epoch 9 || epoch_train_loss: 3369.1303 || Epoch_val_loss: 3.6394 \n"
          ]
        },
        {
          "metadata": {
            "tags": null
          },
          "name": "stderr",
          "output_type": "stream",
          "text": [
            "100%|██████████| 961/961 [12:00<00:00,  1.33it/s]\n",
            "  0%|          | 0/241 [00:02<?, ?it/s]\n"
          ]
        },
        {
          "metadata": {
            "tags": null
          },
          "name": "stdout",
          "output_type": "stream",
          "text": [
            "Epoch 10 || epoch_train_loss: 3303.8625 || Epoch_val_loss: 3.6398 \n"
          ]
        },
        {
          "output_type": "stream",
          "name": "stderr",
          "text": [
            "100%|██████████| 961/961 [12:00<00:00,  1.33it/s]\n",
            "  0%|          | 0/241 [00:02<?, ?it/s]\n"
          ]
        },
        {
          "output_type": "stream",
          "name": "stdout",
          "text": [
            "Epoch 11 || epoch_train_loss: 3242.6600 || Epoch_val_loss: 3.6252 \n"
          ]
        }
      ]
    },
    {
      "cell_type": "markdown",
      "metadata": {
        "id": "e97LDzIImXrN"
      },
      "source": [
        "# 5. Results"
      ]
    },
    {
      "cell_type": "code",
      "metadata": {
        "colab": {
          "base_uri": "https://localhost:8080/",
          "height": 336
        },
        "id": "frlz2ZagmXAM",
        "outputId": "bec8fed3-ac11-4850-ef0e-8490170c6f81"
      },
      "source": [
        "trainer(is_train = False)"
      ],
      "execution_count": 45,
      "outputs": [
        {
          "output_type": "stream",
          "name": "stderr",
          "text": [
            "/usr/local/lib/python3.7/dist-packages/torch/utils/data/dataloader.py:481: UserWarning: This DataLoader will create 4 worker processes in total. Our suggested max number of worker in current system is 2, which is smaller than what this DataLoader is going to create. Please be aware that excessive worker creation might get DataLoader running slow or even freeze, lower the worker number to avoid potential slowness/freeze if necessary.\n",
            "  cpuset_checked))\n",
            "Clipping input data to the valid range for imshow with RGB data ([0..1] for floats or [0..255] for integers).\n"
          ]
        },
        {
          "output_type": "stream",
          "name": "stdout",
          "text": [
            "five teenage enjoy sitting bubbles mess - water they to each kind man who\n"
          ]
        },
        {
          "output_type": "display_data",
          "data": {
            "image/png": "[encoded data removed]",
            "text/plain": [
              "<Figure size 432x288 with 1 Axes>"
            ]
          },
          "metadata": {
            "needs_background": "light"
          }
        }
      ]
    },
    {
      "cell_type": "code",
      "metadata": {
        "id": "UUELT7ra6tqA"
      },
      "source": [
        "trainer(is_train = False)"
      ],
      "execution_count": null,
      "outputs": []
    },
    {
      "cell_type": "code",
      "metadata": {
        "id": "cl0Rnb4Y6t32"
      },
      "source": [
        ""
      ],
      "execution_count": null,
      "outputs": []
    }
  ]
}