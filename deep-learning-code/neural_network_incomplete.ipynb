{
  "nbformat": 4,
  "nbformat_minor": 0,
  "metadata": {
    "kernelspec": {
      "name": "python3",
      "display_name": "Python 3"
    },
    "colab": {
      "name": "neural_network_incomplete.ipynb",
      "provenance": [],
      "collapsed_sections": []
    },
    "language_info": {
      "name": "python"
    }
  },
  "cells": [
    {
      "cell_type": "markdown",
      "metadata": {
        "id": "3x9uySjxDhZ0"
      },
      "source": [
        "# Neural Network Example\n",
        "\n",
        "Xây dựng neural network với hai tầng ẩn (hidden layer). Các trọng số và mối liên hệ giữa các tầng ẩn được thiết lập và cài đặt bằng việc sử dụng API của thư viện PyTorch"
      ]
    },
    {
      "cell_type": "markdown",
      "metadata": {
        "id": "t_U1OnHRDhZ4"
      },
      "source": [
        "## Neural Network Overview\n",
        "\n",
        "<img src=\"http://cs231n.github.io/assets/nn1/neural_net2.jpeg\" alt=\"nn\" style=\"width: 400px;\"/>\n",
        "\n",
        "## MNIST Dataset Overview\n",
        "\n"
      ]
    },
    {
      "cell_type": "code",
      "metadata": {
        "id": "qdOjSpvgDhZ5"
      },
      "source": [
        "from __future__ import absolute_import, division, print_function\n",
        "\n",
        "import torch\n",
        "import torch.nn as nn\n",
        "import torch.nn.functional as F\n",
        "import torch.optim as optim\n",
        "import torchvision\n",
        "import torchvision.transforms as transforms\n",
        "from torch.autograd import Variable\n",
        "import numpy as np"
      ],
      "execution_count": null,
      "outputs": []
    },
    {
      "cell_type": "code",
      "metadata": {
        "colab": {
          "base_uri": "https://localhost:8080/"
        },
        "id": "VozvoFF6gXDB",
        "outputId": "9305ba72-3c20-4dc6-8a08-5c4ee77817e1"
      },
      "source": [
        "# Chuẩn bị dữ liệu\n",
        "from tensorflow.keras.datasets import mnist\n",
        "(x_train, y_train), (x_test, y_test) = mnist.load_data()\n",
        "# Chuyển đổi sang định dạng float32.\n",
        "x_train, x_test = np.array(x_train, np.float32), np.array(x_test, np.float32)\n",
        "# Chuẩn hóa ảnh từ from [0, 255] to [0, 1].\n",
        "x_train, x_test = x_train / 255, x_test / 255\n",
        "x_train, x_test, y_train, y_test = torch.from_numpy(x_train), torch.from_numpy(x_test), torch.from_numpy(y_train).type(torch.LongTensor), torch.from_numpy(y_test).type(torch.LongTensor)"
      ],
      "execution_count": null,
      "outputs": [
        {
          "output_type": "stream",
          "name": "stdout",
          "text": [
            "Downloading data from https://storage.googleapis.com/tensorflow/tf-keras-datasets/mnist.npz\n",
            "11493376/11490434 [==============================] - 0s 0us/step\n",
            "11501568/11490434 [==============================] - 0s 0us/step\n"
          ]
        }
      ]
    },
    {
      "cell_type": "code",
      "metadata": {
        "id": "2l0-L8j1pTAo"
      },
      "source": [
        "# MNIST dataset parameters.\n",
        "num_classes = 10 # total classes (0-9 digits).\n",
        "num_features = 784 # data features (img shape: 28*28).\n",
        "\n",
        "# Network parameters.\n",
        "n_hidden_1 = 128 # 1st layer number of neurons.\n",
        "# n_hidden_2 = 256 # 2nd layer number of neurons."
      ],
      "execution_count": null,
      "outputs": []
    },
    {
      "cell_type": "code",
      "metadata": {
        "id": "DmRW7160DhZ5"
      },
      "source": [
        "batch_size = 16"
      ],
      "execution_count": null,
      "outputs": []
    },
    {
      "cell_type": "code",
      "metadata": {
        "id": "jlCutM-HgnGm"
      },
      "source": [
        "trainloader = []\n",
        "for (i,j) in zip(x_train, y_train):\n",
        "    trainloader.append([i,j])\n",
        "trainloader = torch.utils.data.DataLoader(trainloader, shuffle=True, batch_size=batch_size)\n",
        "\n",
        "testloader = []\n",
        "for (i,j) in zip(x_test, y_test):\n",
        "    testloader.append([i,j])\n",
        "testloader = torch.utils.data.DataLoader(testloader, shuffle=True, batch_size=batch_size)"
      ],
      "execution_count": null,
      "outputs": []
    },
    {
      "cell_type": "markdown",
      "metadata": {
        "id": "2ozBMqxygTt3"
      },
      "source": [
        "## Hiển thị một vài ví dụ"
      ]
    },
    {
      "cell_type": "code",
      "metadata": {
        "id": "OKzi3NK4INqd",
        "colab": {
          "base_uri": "https://localhost:8080/",
          "height": 245
        },
        "outputId": "f6502bd1-51ad-47f9-c12c-c17ae891c81c"
      },
      "source": [
        "import matplotlib.pyplot as plt\n",
        "%matplotlib inline\n",
        "    \n",
        "dataiter = iter(trainloader)\n",
        "images, labels = dataiter.next()\n",
        "images = images.numpy()\n",
        "\n",
        "# hiển thị dữ liệu theo từng batch và nhãn tương ứng\n",
        "fig = plt.figure(figsize=(25, 4))\n",
        "for idx in np.arange(batch_size):\n",
        "    ax = fig.add_subplot(2, batch_size/2, idx+1, xticks=[], yticks=[])\n",
        "    ax.imshow(np.squeeze(images[idx]), cmap='gray')\n",
        "    ax.set_title(str(labels[idx].item()))"
      ],
      "execution_count": null,
      "outputs": [
        {
          "output_type": "display_data",
          "data": {
            "image/png": "[encoded data removed]",
            "text/plain": [
              "<Figure size 1800x288 with 16 Axes>"
            ]
          },
          "metadata": {}
        }
      ]
    },
    {
      "cell_type": "code",
      "metadata": {
        "id": "Rql7CBYODhZ6",
        "colab": {
          "base_uri": "https://localhost:8080/"
        },
        "outputId": "35bf75d7-0e8e-4954-c3e2-1f0e38e3f182"
      },
      "source": [
        "import torch.nn as nn\n",
        "import torch.nn.functional as F\n",
        "\n",
        "## định nghĩa mạng\n",
        "class MLPModel(nn.Module):\n",
        "    def __init__(self):\n",
        "        super(MLPModel, self).__init__()\n",
        "        self.fc1 = nn.Linear(num_features, n_hidden_1)\n",
        "        # linear layer (n_hidden -> hidden_2)\n",
        "        self.fc2 = nn.Linear(n_hidden_1, num_classes)\n",
        "\n",
        "    def forward(self, x):\n",
        "        # chuyển từ định dạng ma trận thành vector\n",
        "        x = x.view(-1, 28 * 28)\n",
        "        # add hidden layer, with relu activation function\n",
        "        x = F.relu(self.fc1(x))\n",
        "        x = F.relu(self.fc2(x))\n",
        "        return x\n",
        "\n",
        "# initialize the NN\n",
        "model = MLPModel()\n",
        "print(model)"
      ],
      "execution_count": null,
      "outputs": [
        {
          "output_type": "stream",
          "name": "stdout",
          "text": [
            "MLPModel(\n",
            "  (fc1): Linear(in_features=784, out_features=128, bias=True)\n",
            "  (fc2): Linear(in_features=128, out_features=10, bias=True)\n",
            ")\n"
          ]
        }
      ]
    },
    {
      "cell_type": "code",
      "metadata": {
        "id": "hCTP3kWMng7e"
      },
      "source": [
        "import torch.optim as optim\n",
        "# trong hàm loss cross entropy đã áp dụng hàm soft max cho vector đầu ra\n",
        "criterion = nn.CrossEntropyLoss()\n",
        "optimizer = optim.SGD(model.parameters(), lr=0.01)"
      ],
      "execution_count": null,
      "outputs": []
    },
    {
      "cell_type": "code",
      "metadata": {
        "id": "F08Eg4vfmtOQ"
      },
      "source": [
        "def accuracy():\n",
        "    correct = 0\n",
        "    total = 0\n",
        "    # since we're not training, we don't need to calculate the gradients for our outputs\n",
        "    with torch.no_grad():\n",
        "        for data in testloader:\n",
        "            images, labels = data\n",
        "            # calculate outputs by running images through the network\n",
        "            outputs = model(images)\n",
        "            # the class with the highest energy is what we choose as prediction\n",
        "            _, predicted = torch.max(outputs.data, 1)\n",
        "            total += labels.size(0)\n",
        "            correct += (predicted == labels).sum().item()\n",
        "\n",
        "    return correct/total"
      ],
      "execution_count": null,
      "outputs": []
    },
    {
      "cell_type": "code",
      "metadata": {
        "id": "NDl_S1CynsUR"
      },
      "source": [
        "def losses(trainloader,epoch,model,criterion,optimizer):\n",
        "  losses = []\n",
        "  for ep in range(epoch):  # loop over the dataset multiple times\n",
        "\n",
        "      running_loss = 0.0\n",
        "      for i, data in enumerate(trainloader, 0):\n",
        "          #print(len(data))\n",
        "          # get the inputs; data is a list of [inputs, labels]\n",
        "          inputs,labels = data\n",
        "\n",
        "          # zero the parameter gradients\n",
        "          optimizer.zero_grad()\n",
        "\n",
        "          # forward + backward + optimize\n",
        "          outputs = model(inputs)\n",
        "          # print(outputs.shape)\n",
        "          loss = criterion(outputs, labels)\n",
        "          loss.backward()\n",
        "          optimizer.step()\n",
        "\n",
        "          # print statistics\n",
        "          running_loss += loss.item()\n",
        "      losses.append(running_loss)\n",
        "      if ep % 10 == 9:\n",
        "          print('Iteration: %d, accuracy: %.3f' %(ep + 1, accuracy()))\n",
        "\n",
        "  print('Finished Training')\n",
        "  return losses"
      ],
      "execution_count": null,
      "outputs": []
    },
    {
      "cell_type": "code",
      "metadata": {
        "colab": {
          "base_uri": "https://localhost:8080/",
          "height": 455
        },
        "id": "wULStpofn6KQ",
        "outputId": "9e576ce8-f80f-4744-9bcf-ecd9a7edc1fe"
      },
      "source": [
        "# Biểu đồ biểu diễn độ biến thiên của hàm mất mát qua các vòng lặp\n",
        "losses = losses(trainloader,100,model,criterion,optimizer)\n",
        "plt.plot([i for i in range(len(losses))], losses, label='Loss line')\n",
        "# plt.plot(X, np.array(W * X + b), label='Fitted line')\n",
        "plt.legend()\n",
        "plt.show()"
      ],
      "execution_count": null,
      "outputs": [
        {
          "output_type": "stream",
          "name": "stdout",
          "text": [
            "Iteration: 10, accuracy: 0.950\n",
            "Iteration: 20, accuracy: 0.970\n",
            "Iteration: 30, accuracy: 0.975\n",
            "Iteration: 40, accuracy: 0.977\n",
            "Iteration: 50, accuracy: 0.979\n",
            "Iteration: 60, accuracy: 0.979\n",
            "Iteration: 70, accuracy: 0.978\n",
            "Iteration: 80, accuracy: 0.978\n",
            "Iteration: 90, accuracy: 0.979\n",
            "Iteration: 100, accuracy: 0.979\n",
            "Finished Training\n"
          ]
        },
        {
          "output_type": "display_data",
          "data": {
            "image/png": "[encoded data removed]",
            "text/plain": [
              "<Figure size 432x288 with 1 Axes>"
            ]
          },
          "metadata": {
            "needs_background": "light"
          }
        }
      ]
    },
    {
      "cell_type": "markdown",
      "metadata": {
        "id": "r9TNrG3r0OYV"
      },
      "source": [
        "## Bài tập\n",
        "\n",
        "*   Tiến hành huấn luyện mô hình với số lượng epoch lần lượt là 50, 100, 150.Rút ra nhận xét.\n",
        "\n"
      ]
    },
    {
      "cell_type": "markdown",
      "metadata": {
        "id": "ByD_DioQ0n58"
      },
      "source": [
        "\n",
        "\n",
        "*   Hiển thị một số kết quả\n",
        "\n"
      ]
    },
    {
      "cell_type": "code",
      "metadata": {
        "id": "EPVrejvmDhZ_",
        "colab": {
          "base_uri": "https://localhost:8080/",
          "height": 245
        },
        "outputId": "9ab356a0-bb10-42ca-f6d4-6b2b8218ef46"
      },
      "source": [
        "# obtain one batch of test images\n",
        "dataiter = iter(testloader)\n",
        "images, labels = dataiter.next()\n",
        "\n",
        "# get sample outputs\n",
        "output = model(images)\n",
        "# convert output probabilities to predicted class\n",
        "_, preds = torch.max(output, 1)\n",
        "# prep images for display\n",
        "images = images.numpy()\n",
        "\n",
        "# plot the images in the batch, along with predicted and true labels\n",
        "fig = plt.figure(figsize=(25, 4))\n",
        "for idx in np.arange(batch_size):\n",
        "    ax = fig.add_subplot(2, batch_size/2, idx+1, xticks=[], yticks=[])\n",
        "    ax.imshow(np.squeeze(images[idx]), cmap='gray')\n",
        "    ax.set_title(\"{} ({})\".format(str(preds[idx].item()), str(labels[idx].item())),\n",
        "                 color=(\"green\" if preds[idx]==labels[idx] else \"red\"))"
      ],
      "execution_count": null,
      "outputs": [
        {
          "output_type": "display_data",
          "data": {
            "image/png": "[encoded data removed]",
            "text/plain": [
              "<Figure size 1800x288 with 16 Axes>"
            ]
          },
          "metadata": {}
        }
      ]
    },
    {
      "cell_type": "code",
      "metadata": {
        "id": "M64NL8UXhe00"
      },
      "source": [
        ""
      ],
      "execution_count": null,
      "outputs": []
    },
    {
      "cell_type": "markdown",
      "metadata": {
        "id": "LZnmFyT3yvBd"
      },
      "source": [
        "## Bài tập\n",
        "\n",
        "*   Thiết lập thêm 3 mạng nơ ron với số tầng ẩn lần lượt là 3,5 (số lượng nơ ron của các tầng tùy ý). Với mỗi mạng mới được sinh ra, áp dụng learning-rate lần lượt bằng 0.1, 0,05, 0.001 để huấn luyện. Huấn luyện qua khoảng 100 epoch.\n",
        "*   Chia tập train hiện có thành 2 phần. **85%** dữ liệu làm tập **train**, **15%** còn lại làm tập **dev**. Huấn luyện các mô hình tạo ra ở bước trên với tập **train** mới, sau đó kiểm thử trên tập **dev**. \n",
        "* Dùng các model kiểm thử trên tập **test**. So sánh model cho kết quả tốt nhất khi kiểm thử trên 2 tập này và rút ra nhận xét về vai trò của tập **dev**\n",
        "\n"
      ]
    },
    {
      "cell_type": "markdown",
      "metadata": {
        "id": "Va7JRY7HGV9L"
      },
      "source": [
        "## 3 hidden layer"
      ]
    },
    {
      "cell_type": "code",
      "metadata": {
        "id": "EF1b93QTGU2n"
      },
      "source": [
        "class MLPModel_1(nn.Module):\n",
        "    def __init__(self):\n",
        "        super(MLPModel_1, self).__init__()\n",
        "        self.fc1 = nn.Linear(num_features, 128)\n",
        "        # linear layer (n_hidden -> hidden_2)\n",
        "        self.fc2 = nn.Linear(128,256)\n",
        "        self.fc3 = nn.Linear(256,128)\n",
        "        self.fc4 = nn.Linear(128, num_classes)\n",
        "\n",
        "    def forward(self, x):\n",
        "        # chuyển từ định dạng ma trận thành vector\n",
        "        x = x.view(-1, 28 * 28)\n",
        "        # add hidden layer, with relu activation function\n",
        "        x = F.relu(self.fc1(x))\n",
        "        x = F.relu(self.fc2(x))\n",
        "        x = F.relu(self.fc3(x))\n",
        "        x = F.relu(self.fc4(x))\n",
        "        return x"
      ],
      "execution_count": null,
      "outputs": []
    },
    {
      "cell_type": "code",
      "metadata": {
        "id": "C39gY8RtGv5_"
      },
      "source": [
        "model_1 = MLPModel_1()"
      ],
      "execution_count": null,
      "outputs": []
    },
    {
      "cell_type": "markdown",
      "metadata": {
        "id": "VcgdrrF2HGaI"
      },
      "source": [
        "## 5 hidden layer"
      ]
    },
    {
      "cell_type": "code",
      "metadata": {
        "id": "5cGiclbuHDQP"
      },
      "source": [
        "class MLPModel_2(nn.Module):\n",
        "    def __init__(self):\n",
        "        super(MLPModel_2, self).__init__()\n",
        "        self.fc1 = nn.Linear(num_features, 128)\n",
        "        # linear layer (n_hidden -> hidden_2)\n",
        "        self.fc2 = nn.Linear(128,128)\n",
        "        self.fc3 = nn.Linear(128,128)\n",
        "        self.fc4 = nn.Linear(128,128)\n",
        "        self.fc5 = nn.Linear(128,128)\n",
        "        self.fc6 = nn.Linear(128, num_classes)\n",
        "\n",
        "    def forward(self, x):\n",
        "        # chuyển từ định dạng ma trận thành vector\n",
        "        x = x.view(-1, 28 * 28)\n",
        "        # add hidden layer, with relu activation function\n",
        "        x = F.relu(self.fc1(x))\n",
        "        x = F.relu(self.fc2(x))\n",
        "        x = F.relu(self.fc3(x))\n",
        "        x = F.relu(self.fc4(x))\n",
        "        x = F.relu(self.fc5(x))\n",
        "        x = F.relu(self.fc6(x))\n",
        "        return x"
      ],
      "execution_count": null,
      "outputs": []
    },
    {
      "cell_type": "code",
      "metadata": {
        "id": "ctjwXflWG9l8"
      },
      "source": [
        "model_2 = MLPModel_2()"
      ],
      "execution_count": null,
      "outputs": []
    },
    {
      "cell_type": "markdown",
      "metadata": {
        "id": "8NCLcknuH_5v"
      },
      "source": [
        "## running\n"
      ]
    },
    {
      "cell_type": "code",
      "metadata": {
        "id": "fQgG9WxOIDfN"
      },
      "source": [
        "criterion = nn.CrossEntropyLoss()\n",
        "optimizer_1 = optim.SGD(model_1.parameters(), lr=0.1)\n",
        "optimizer_2 = optim.SGD(model_1.parameters(), lr=0.05)\n",
        "optimizer_3 = optim.SGD(model_1.parameters(), lr=0.001)"
      ],
      "execution_count": null,
      "outputs": []
    },
    {
      "cell_type": "code",
      "metadata": {
        "colab": {
          "base_uri": "https://localhost:8080/"
        },
        "id": "fZrqhJz9IU76",
        "outputId": "74aee32d-664e-4050-f05e-157ebb1ecc6a"
      },
      "source": [
        "losses0 = losses(trainloader,100,model_1,criterion,optimizer_1)"
      ],
      "execution_count": null,
      "outputs": [
        {
          "output_type": "stream",
          "name": "stdout",
          "text": [
            "Iteration: 10, accuracy: 0.979\n",
            "Iteration: 20, accuracy: 0.979\n",
            "Iteration: 30, accuracy: 0.979\n",
            "Iteration: 40, accuracy: 0.979\n",
            "Iteration: 50, accuracy: 0.979\n",
            "Iteration: 60, accuracy: 0.979\n",
            "Iteration: 70, accuracy: 0.979\n",
            "Iteration: 80, accuracy: 0.979\n",
            "Iteration: 90, accuracy: 0.979\n",
            "Iteration: 100, accuracy: 0.979\n",
            "Finished Training\n"
          ]
        }
      ]
    },
    {
      "cell_type": "code",
      "metadata": {
        "colab": {
          "base_uri": "https://localhost:8080/"
        },
        "id": "aM0JCztAIfCE",
        "outputId": "1371556b-bca1-4908-82a1-c162b26bc2af"
      },
      "source": [
        "losses1 = losses(trainloader,100,model_1,criterion,optimizer_2)"
      ],
      "execution_count": null,
      "outputs": [
        {
          "output_type": "stream",
          "name": "stdout",
          "text": [
            "Iteration: 10, accuracy: 0.979\n",
            "Iteration: 20, accuracy: 0.979\n",
            "Iteration: 30, accuracy: 0.979\n",
            "Iteration: 40, accuracy: 0.979\n",
            "Iteration: 50, accuracy: 0.979\n",
            "Iteration: 60, accuracy: 0.979\n",
            "Iteration: 70, accuracy: 0.979\n",
            "Iteration: 80, accuracy: 0.979\n",
            "Iteration: 90, accuracy: 0.979\n",
            "Iteration: 100, accuracy: 0.979\n",
            "Finished Training\n"
          ]
        }
      ]
    },
    {
      "cell_type": "code",
      "metadata": {
        "colab": {
          "base_uri": "https://localhost:8080/"
        },
        "id": "isThU3HOIiAN",
        "outputId": "ccc9828f-0571-402e-c589-b8fd4bdffc76"
      },
      "source": [
        "losses2 = losses(trainloader,100,model_1,criterion,optimizer_3)"
      ],
      "execution_count": null,
      "outputs": [
        {
          "output_type": "stream",
          "name": "stdout",
          "text": [
            "Iteration: 10, accuracy: 0.979\n",
            "Iteration: 20, accuracy: 0.979\n",
            "Iteration: 30, accuracy: 0.979\n",
            "Iteration: 40, accuracy: 0.979\n",
            "Iteration: 50, accuracy: 0.979\n",
            "Iteration: 60, accuracy: 0.979\n",
            "Iteration: 70, accuracy: 0.979\n",
            "Iteration: 80, accuracy: 0.979\n",
            "Iteration: 90, accuracy: 0.979\n",
            "Iteration: 100, accuracy: 0.979\n",
            "Finished Training\n"
          ]
        }
      ]
    },
    {
      "cell_type": "code",
      "metadata": {
        "id": "EqlulNw3Iki9",
        "colab": {
          "base_uri": "https://localhost:8080/"
        },
        "outputId": "558e68d4-024c-4c52-ee45-6e5b84fc0584"
      },
      "source": [
        "losses4 = losses(trainloader,100,model_2,criterion,optimizer_1)"
      ],
      "execution_count": null,
      "outputs": [
        {
          "output_type": "stream",
          "name": "stdout",
          "text": [
            "Iteration: 10, accuracy: 0.979\n",
            "Iteration: 20, accuracy: 0.979\n",
            "Iteration: 30, accuracy: 0.979\n",
            "Iteration: 40, accuracy: 0.979\n",
            "Iteration: 50, accuracy: 0.979\n",
            "Iteration: 60, accuracy: 0.979\n",
            "Iteration: 70, accuracy: 0.979\n",
            "Iteration: 80, accuracy: 0.979\n",
            "Iteration: 90, accuracy: 0.979\n",
            "Iteration: 100, accuracy: 0.979\n",
            "Finished Training\n"
          ]
        }
      ]
    },
    {
      "cell_type": "code",
      "metadata": {
        "id": "beMCKoudInD0"
      },
      "source": [
        "losses = losses(trainloader,100,model_2,criterion,optimizer_2)"
      ],
      "execution_count": null,
      "outputs": []
    },
    {
      "cell_type": "code",
      "metadata": {
        "id": "I6yYqk6jIq5N"
      },
      "source": [
        "losses = losses(trainloader,100,model_2,criterion,optimizer_3)"
      ],
      "execution_count": null,
      "outputs": []
    }
  ]
}