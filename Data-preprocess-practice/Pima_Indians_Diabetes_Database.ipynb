{
  "nbformat": 4,
  "nbformat_minor": 0,
  "metadata": {
    "colab": {
      "name": "Pima Indians Diabetes Database.ipynb",
      "provenance": []
    },
    "kernelspec": {
      "name": "python3",
      "display_name": "Python 3"
    },
    "language_info": {
      "name": "python"
    }
  },
  "cells": [
    {
      "cell_type": "code",
      "metadata": {
        "id": "G8iUJmWarOvZ"
      },
      "source": [
        "import pandas as pd\n",
        "import numpy as np\n",
        "import matplotlib.pyplot as plt\n",
        "import seaborn as sns"
      ],
      "execution_count": null,
      "outputs": []
    },
    {
      "cell_type": "code",
      "metadata": {
        "id": "RQEhvA2ItWws"
      },
      "source": [
        "#import data\n",
        "data = pd.read_csv(\"/content/drive/MyDrive/dataset/diabetes.csv\")"
      ],
      "execution_count": null,
      "outputs": []
    },
    {
      "cell_type": "code",
      "metadata": {
        "colab": {
          "base_uri": "https://localhost:8080/",
          "height": 204
        },
        "id": "hC0XBHGVtjy4",
        "outputId": "0b3c7c5b-b49d-453f-a051-430869c6aa67"
      },
      "source": [
        "data.head()"
      ],
      "execution_count": null,
      "outputs": [
        {
          "output_type": "execute_result",
          "data": {
            "text/html": [
              "<div>\n",
              "<style scoped>\n",
              "    .dataframe tbody tr th:only-of-type {\n",
              "        vertical-align: middle;\n",
              "    }\n",
              "\n",
              "    .dataframe tbody tr th {\n",
              "        vertical-align: top;\n",
              "    }\n",
              "\n",
              "    .dataframe thead th {\n",
              "        text-align: right;\n",
              "    }\n",
              "</style>\n",
              "<table border=\"1\" class=\"dataframe\">\n",
              "  <thead>\n",
              "    <tr style=\"text-align: right;\">\n",
              "      <th></th>\n",
              "      <th>Pregnancies</th>\n",
              "      <th>Glucose</th>\n",
              "      <th>BloodPressure</th>\n",
              "      <th>SkinThickness</th>\n",
              "      <th>Insulin</th>\n",
              "      <th>BMI</th>\n",
              "      <th>DiabetesPedigreeFunction</th>\n",
              "      <th>Age</th>\n",
              "      <th>Outcome</th>\n",
              "    </tr>\n",
              "  </thead>\n",
              "  <tbody>\n",
              "    <tr>\n",
              "      <th>0</th>\n",
              "      <td>6</td>\n",
              "      <td>148</td>\n",
              "      <td>72</td>\n",
              "      <td>35</td>\n",
              "      <td>0</td>\n",
              "      <td>33.6</td>\n",
              "      <td>0.627</td>\n",
              "      <td>50</td>\n",
              "      <td>1</td>\n",
              "    </tr>\n",
              "    <tr>\n",
              "      <th>1</th>\n",
              "      <td>1</td>\n",
              "      <td>85</td>\n",
              "      <td>66</td>\n",
              "      <td>29</td>\n",
              "      <td>0</td>\n",
              "      <td>26.6</td>\n",
              "      <td>0.351</td>\n",
              "      <td>31</td>\n",
              "      <td>0</td>\n",
              "    </tr>\n",
              "    <tr>\n",
              "      <th>2</th>\n",
              "      <td>8</td>\n",
              "      <td>183</td>\n",
              "      <td>64</td>\n",
              "      <td>0</td>\n",
              "      <td>0</td>\n",
              "      <td>23.3</td>\n",
              "      <td>0.672</td>\n",
              "      <td>32</td>\n",
              "      <td>1</td>\n",
              "    </tr>\n",
              "    <tr>\n",
              "      <th>3</th>\n",
              "      <td>1</td>\n",
              "      <td>89</td>\n",
              "      <td>66</td>\n",
              "      <td>23</td>\n",
              "      <td>94</td>\n",
              "      <td>28.1</td>\n",
              "      <td>0.167</td>\n",
              "      <td>21</td>\n",
              "      <td>0</td>\n",
              "    </tr>\n",
              "    <tr>\n",
              "      <th>4</th>\n",
              "      <td>0</td>\n",
              "      <td>137</td>\n",
              "      <td>40</td>\n",
              "      <td>35</td>\n",
              "      <td>168</td>\n",
              "      <td>43.1</td>\n",
              "      <td>2.288</td>\n",
              "      <td>33</td>\n",
              "      <td>1</td>\n",
              "    </tr>\n",
              "  </tbody>\n",
              "</table>\n",
              "</div>"
            ],
            "text/plain": [
              "   Pregnancies  Glucose  BloodPressure  ...  DiabetesPedigreeFunction  Age  Outcome\n",
              "0            6      148             72  ...                     0.627   50        1\n",
              "1            1       85             66  ...                     0.351   31        0\n",
              "2            8      183             64  ...                     0.672   32        1\n",
              "3            1       89             66  ...                     0.167   21        0\n",
              "4            0      137             40  ...                     2.288   33        1\n",
              "\n",
              "[5 rows x 9 columns]"
            ]
          },
          "metadata": {
            "tags": []
          },
          "execution_count": 89
        }
      ]
    },
    {
      "cell_type": "code",
      "metadata": {
        "colab": {
          "base_uri": "https://localhost:8080/"
        },
        "id": "TtOBxtzOq9gj",
        "outputId": "a0e7d459-c987-44a1-8d00-5cdd48dc216e"
      },
      "source": [
        "data.shape"
      ],
      "execution_count": null,
      "outputs": [
        {
          "output_type": "execute_result",
          "data": {
            "text/plain": [
              "(768, 9)"
            ]
          },
          "metadata": {
            "tags": []
          },
          "execution_count": 34
        }
      ]
    },
    {
      "cell_type": "code",
      "metadata": {
        "colab": {
          "base_uri": "https://localhost:8080/"
        },
        "id": "PPAmiAArrAhB",
        "outputId": "96d646ba-6188-4776-8911-9e3c6756a72f"
      },
      "source": [
        "data.info()"
      ],
      "execution_count": null,
      "outputs": [
        {
          "output_type": "stream",
          "text": [
            "<class 'pandas.core.frame.DataFrame'>\n",
            "RangeIndex: 768 entries, 0 to 767\n",
            "Data columns (total 9 columns):\n",
            " #   Column                    Non-Null Count  Dtype  \n",
            "---  ------                    --------------  -----  \n",
            " 0   Pregnancies               768 non-null    int64  \n",
            " 1   Glucose                   768 non-null    int64  \n",
            " 2   BloodPressure             768 non-null    int64  \n",
            " 3   SkinThickness             768 non-null    int64  \n",
            " 4   Insulin                   768 non-null    int64  \n",
            " 5   BMI                       768 non-null    float64\n",
            " 6   DiabetesPedigreeFunction  768 non-null    float64\n",
            " 7   Age                       768 non-null    int64  \n",
            " 8   Outcome                   768 non-null    int64  \n",
            "dtypes: float64(2), int64(7)\n",
            "memory usage: 54.1 KB\n"
          ],
          "name": "stdout"
        }
      ]
    },
    {
      "cell_type": "code",
      "metadata": {
        "colab": {
          "base_uri": "https://localhost:8080/",
          "height": 297
        },
        "id": "Jp5YODz8rKsu",
        "outputId": "7243c8c9-216d-4d54-8787-ff828de57108"
      },
      "source": [
        "data.describe()"
      ],
      "execution_count": null,
      "outputs": [
        {
          "output_type": "execute_result",
          "data": {
            "text/html": [
              "<div>\n",
              "<style scoped>\n",
              "    .dataframe tbody tr th:only-of-type {\n",
              "        vertical-align: middle;\n",
              "    }\n",
              "\n",
              "    .dataframe tbody tr th {\n",
              "        vertical-align: top;\n",
              "    }\n",
              "\n",
              "    .dataframe thead th {\n",
              "        text-align: right;\n",
              "    }\n",
              "</style>\n",
              "<table border=\"1\" class=\"dataframe\">\n",
              "  <thead>\n",
              "    <tr style=\"text-align: right;\">\n",
              "      <th></th>\n",
              "      <th>Pregnancies</th>\n",
              "      <th>Glucose</th>\n",
              "      <th>BloodPressure</th>\n",
              "      <th>SkinThickness</th>\n",
              "      <th>Insulin</th>\n",
              "      <th>BMI</th>\n",
              "      <th>DiabetesPedigreeFunction</th>\n",
              "      <th>Age</th>\n",
              "      <th>Outcome</th>\n",
              "    </tr>\n",
              "  </thead>\n",
              "  <tbody>\n",
              "    <tr>\n",
              "      <th>count</th>\n",
              "      <td>768.000000</td>\n",
              "      <td>768.000000</td>\n",
              "      <td>768.000000</td>\n",
              "      <td>768.000000</td>\n",
              "      <td>768.000000</td>\n",
              "      <td>768.000000</td>\n",
              "      <td>768.000000</td>\n",
              "      <td>768.000000</td>\n",
              "      <td>768.000000</td>\n",
              "    </tr>\n",
              "    <tr>\n",
              "      <th>mean</th>\n",
              "      <td>3.845052</td>\n",
              "      <td>120.894531</td>\n",
              "      <td>69.105469</td>\n",
              "      <td>20.536458</td>\n",
              "      <td>79.799479</td>\n",
              "      <td>31.992578</td>\n",
              "      <td>0.471876</td>\n",
              "      <td>33.240885</td>\n",
              "      <td>0.348958</td>\n",
              "    </tr>\n",
              "    <tr>\n",
              "      <th>std</th>\n",
              "      <td>3.369578</td>\n",
              "      <td>31.972618</td>\n",
              "      <td>19.355807</td>\n",
              "      <td>15.952218</td>\n",
              "      <td>115.244002</td>\n",
              "      <td>7.884160</td>\n",
              "      <td>0.331329</td>\n",
              "      <td>11.760232</td>\n",
              "      <td>0.476951</td>\n",
              "    </tr>\n",
              "    <tr>\n",
              "      <th>min</th>\n",
              "      <td>0.000000</td>\n",
              "      <td>0.000000</td>\n",
              "      <td>0.000000</td>\n",
              "      <td>0.000000</td>\n",
              "      <td>0.000000</td>\n",
              "      <td>0.000000</td>\n",
              "      <td>0.078000</td>\n",
              "      <td>21.000000</td>\n",
              "      <td>0.000000</td>\n",
              "    </tr>\n",
              "    <tr>\n",
              "      <th>25%</th>\n",
              "      <td>1.000000</td>\n",
              "      <td>99.000000</td>\n",
              "      <td>62.000000</td>\n",
              "      <td>0.000000</td>\n",
              "      <td>0.000000</td>\n",
              "      <td>27.300000</td>\n",
              "      <td>0.243750</td>\n",
              "      <td>24.000000</td>\n",
              "      <td>0.000000</td>\n",
              "    </tr>\n",
              "    <tr>\n",
              "      <th>50%</th>\n",
              "      <td>3.000000</td>\n",
              "      <td>117.000000</td>\n",
              "      <td>72.000000</td>\n",
              "      <td>23.000000</td>\n",
              "      <td>30.500000</td>\n",
              "      <td>32.000000</td>\n",
              "      <td>0.372500</td>\n",
              "      <td>29.000000</td>\n",
              "      <td>0.000000</td>\n",
              "    </tr>\n",
              "    <tr>\n",
              "      <th>75%</th>\n",
              "      <td>6.000000</td>\n",
              "      <td>140.250000</td>\n",
              "      <td>80.000000</td>\n",
              "      <td>32.000000</td>\n",
              "      <td>127.250000</td>\n",
              "      <td>36.600000</td>\n",
              "      <td>0.626250</td>\n",
              "      <td>41.000000</td>\n",
              "      <td>1.000000</td>\n",
              "    </tr>\n",
              "    <tr>\n",
              "      <th>max</th>\n",
              "      <td>17.000000</td>\n",
              "      <td>199.000000</td>\n",
              "      <td>122.000000</td>\n",
              "      <td>99.000000</td>\n",
              "      <td>846.000000</td>\n",
              "      <td>67.100000</td>\n",
              "      <td>2.420000</td>\n",
              "      <td>81.000000</td>\n",
              "      <td>1.000000</td>\n",
              "    </tr>\n",
              "  </tbody>\n",
              "</table>\n",
              "</div>"
            ],
            "text/plain": [
              "       Pregnancies     Glucose  ...         Age     Outcome\n",
              "count   768.000000  768.000000  ...  768.000000  768.000000\n",
              "mean      3.845052  120.894531  ...   33.240885    0.348958\n",
              "std       3.369578   31.972618  ...   11.760232    0.476951\n",
              "min       0.000000    0.000000  ...   21.000000    0.000000\n",
              "25%       1.000000   99.000000  ...   24.000000    0.000000\n",
              "50%       3.000000  117.000000  ...   29.000000    0.000000\n",
              "75%       6.000000  140.250000  ...   41.000000    1.000000\n",
              "max      17.000000  199.000000  ...   81.000000    1.000000\n",
              "\n",
              "[8 rows x 9 columns]"
            ]
          },
          "metadata": {
            "tags": []
          },
          "execution_count": 36
        }
      ]
    },
    {
      "cell_type": "code",
      "metadata": {
        "colab": {
          "base_uri": "https://localhost:8080/"
        },
        "id": "xrBMPSTHruuU",
        "outputId": "1a8a1362-840f-4572-834b-8e6a26492260"
      },
      "source": [
        "for col in data:\n",
        "  print(data[col].value_counts())"
      ],
      "execution_count": null,
      "outputs": [
        {
          "output_type": "stream",
          "text": [
            "1     135\n",
            "0     111\n",
            "2     103\n",
            "3      75\n",
            "4      68\n",
            "5      57\n",
            "6      50\n",
            "7      45\n",
            "8      38\n",
            "9      28\n",
            "10     24\n",
            "11     11\n",
            "13     10\n",
            "12      9\n",
            "14      2\n",
            "15      1\n",
            "17      1\n",
            "Name: Pregnancies, dtype: int64\n",
            "100    17\n",
            "99     17\n",
            "129    14\n",
            "125    14\n",
            "111    14\n",
            "       ..\n",
            "177     1\n",
            "172     1\n",
            "169     1\n",
            "160     1\n",
            "199     1\n",
            "Name: Glucose, Length: 136, dtype: int64\n",
            "70     57\n",
            "74     52\n",
            "68     45\n",
            "78     45\n",
            "72     44\n",
            "64     43\n",
            "80     40\n",
            "76     39\n",
            "60     37\n",
            "0      35\n",
            "62     34\n",
            "66     30\n",
            "82     30\n",
            "88     25\n",
            "84     23\n",
            "90     22\n",
            "86     21\n",
            "58     21\n",
            "50     13\n",
            "56     12\n",
            "52     11\n",
            "54     11\n",
            "92      8\n",
            "75      8\n",
            "65      7\n",
            "94      6\n",
            "85      6\n",
            "48      5\n",
            "44      4\n",
            "96      4\n",
            "110     3\n",
            "100     3\n",
            "98      3\n",
            "106     3\n",
            "108     2\n",
            "104     2\n",
            "30      2\n",
            "55      2\n",
            "46      2\n",
            "40      1\n",
            "38      1\n",
            "24      1\n",
            "95      1\n",
            "61      1\n",
            "102     1\n",
            "114     1\n",
            "122     1\n",
            "Name: BloodPressure, dtype: int64\n",
            "0     227\n",
            "32     31\n",
            "30     27\n",
            "27     23\n",
            "23     22\n",
            "33     20\n",
            "18     20\n",
            "28     20\n",
            "31     19\n",
            "39     18\n",
            "19     18\n",
            "29     17\n",
            "37     16\n",
            "26     16\n",
            "22     16\n",
            "40     16\n",
            "25     16\n",
            "35     15\n",
            "41     15\n",
            "36     14\n",
            "15     14\n",
            "17     14\n",
            "20     13\n",
            "24     12\n",
            "42     11\n",
            "13     11\n",
            "21     10\n",
            "34      8\n",
            "46      8\n",
            "38      7\n",
            "12      7\n",
            "14      6\n",
            "16      6\n",
            "11      6\n",
            "43      6\n",
            "45      6\n",
            "10      5\n",
            "44      5\n",
            "48      4\n",
            "47      4\n",
            "50      3\n",
            "49      3\n",
            "54      2\n",
            "52      2\n",
            "7       2\n",
            "8       2\n",
            "60      1\n",
            "56      1\n",
            "63      1\n",
            "51      1\n",
            "99      1\n",
            "Name: SkinThickness, dtype: int64\n",
            "0      374\n",
            "105     11\n",
            "140      9\n",
            "130      9\n",
            "120      8\n",
            "      ... \n",
            "271      1\n",
            "270      1\n",
            "108      1\n",
            "112      1\n",
            "846      1\n",
            "Name: Insulin, Length: 186, dtype: int64\n",
            "32.0    13\n",
            "31.6    12\n",
            "31.2    12\n",
            "0.0     11\n",
            "33.3    10\n",
            "        ..\n",
            "32.1     1\n",
            "52.9     1\n",
            "31.3     1\n",
            "45.7     1\n",
            "42.8     1\n",
            "Name: BMI, Length: 248, dtype: int64\n",
            "0.254    6\n",
            "0.258    6\n",
            "0.259    5\n",
            "0.238    5\n",
            "0.207    5\n",
            "        ..\n",
            "0.886    1\n",
            "0.804    1\n",
            "1.251    1\n",
            "0.382    1\n",
            "0.375    1\n",
            "Name: DiabetesPedigreeFunction, Length: 517, dtype: int64\n",
            "22    72\n",
            "21    63\n",
            "25    48\n",
            "24    46\n",
            "23    38\n",
            "28    35\n",
            "26    33\n",
            "27    32\n",
            "29    29\n",
            "31    24\n",
            "41    22\n",
            "30    21\n",
            "37    19\n",
            "42    18\n",
            "33    17\n",
            "32    16\n",
            "36    16\n",
            "38    16\n",
            "45    15\n",
            "34    14\n",
            "40    13\n",
            "43    13\n",
            "46    13\n",
            "39    12\n",
            "35    10\n",
            "50     8\n",
            "44     8\n",
            "51     8\n",
            "52     8\n",
            "58     7\n",
            "47     6\n",
            "54     6\n",
            "57     5\n",
            "60     5\n",
            "48     5\n",
            "49     5\n",
            "53     5\n",
            "55     4\n",
            "62     4\n",
            "63     4\n",
            "66     4\n",
            "56     3\n",
            "59     3\n",
            "65     3\n",
            "67     3\n",
            "61     2\n",
            "69     2\n",
            "72     1\n",
            "64     1\n",
            "68     1\n",
            "70     1\n",
            "81     1\n",
            "Name: Age, dtype: int64\n",
            "0    500\n",
            "1    268\n",
            "Name: Outcome, dtype: int64\n"
          ],
          "name": "stdout"
        }
      ]
    },
    {
      "cell_type": "markdown",
      "metadata": {
        "id": "2p7zH98yskrq"
      },
      "source": [
        "\n",
        "\n",
        "*   The number of 0 in skinthickness and insulin is high !!\n",
        "\n"
      ]
    },
    {
      "cell_type": "code",
      "metadata": {
        "id": "Pdg0qXKbwpiF"
      },
      "source": [
        "#extract independent data\n",
        "#x is independent data, y is dependent data\n",
        "x = data.drop('Outcome',axis = 1)\n",
        "y = data['Outcome']"
      ],
      "execution_count": null,
      "outputs": []
    },
    {
      "cell_type": "code",
      "metadata": {
        "colab": {
          "base_uri": "https://localhost:8080/",
          "height": 669
        },
        "id": "UAJ2n38ZsiBz",
        "outputId": "154a5a13-d6c7-4bd3-af92-034d84e2c24e"
      },
      "source": [
        "x.hist(figsize=(12,8))"
      ],
      "execution_count": null,
      "outputs": [
        {
          "output_type": "execute_result",
          "data": {
            "text/plain": [
              "array([[<matplotlib.axes._subplots.AxesSubplot object at 0x7fb5501e2950>,\n",
              "        <matplotlib.axes._subplots.AxesSubplot object at 0x7fb54ffe8510>,\n",
              "        <matplotlib.axes._subplots.AxesSubplot object at 0x7fb54ffc33d0>],\n",
              "       [<matplotlib.axes._subplots.AxesSubplot object at 0x7fb550038c90>,\n",
              "        <matplotlib.axes._subplots.AxesSubplot object at 0x7fb57fd82810>,\n",
              "        <matplotlib.axes._subplots.AxesSubplot object at 0x7fb54ff18590>],\n",
              "       [<matplotlib.axes._subplots.AxesSubplot object at 0x7fb54fecdc90>,\n",
              "        <matplotlib.axes._subplots.AxesSubplot object at 0x7fb54fe90290>,\n",
              "        <matplotlib.axes._subplots.AxesSubplot object at 0x7fb54fe902d0>]],\n",
              "      dtype=object)"
            ]
          },
          "metadata": {
            "tags": []
          },
          "execution_count": 42
        },
        {
          "output_type": "display_data",
          "data": {
            "image/png": "[encoded data removed]",
            "text/plain": [
              "<Figure size 864x576 with 9 Axes>"
            ]
          },
          "metadata": {
            "tags": [],
            "needs_background": "light"
          }
        }
      ]
    },
    {
      "cell_type": "code",
      "metadata": {
        "colab": {
          "base_uri": "https://localhost:8080/",
          "height": 328
        },
        "id": "QoJFjpkYv10y",
        "outputId": "0e0acef7-2e5b-4e7f-a003-c123ee7c7d74"
      },
      "source": [
        "data.corr()"
      ],
      "execution_count": null,
      "outputs": [
        {
          "output_type": "execute_result",
          "data": {
            "text/html": [
              "<div>\n",
              "<style scoped>\n",
              "    .dataframe tbody tr th:only-of-type {\n",
              "        vertical-align: middle;\n",
              "    }\n",
              "\n",
              "    .dataframe tbody tr th {\n",
              "        vertical-align: top;\n",
              "    }\n",
              "\n",
              "    .dataframe thead th {\n",
              "        text-align: right;\n",
              "    }\n",
              "</style>\n",
              "<table border=\"1\" class=\"dataframe\">\n",
              "  <thead>\n",
              "    <tr style=\"text-align: right;\">\n",
              "      <th></th>\n",
              "      <th>Pregnancies</th>\n",
              "      <th>Glucose</th>\n",
              "      <th>BloodPressure</th>\n",
              "      <th>SkinThickness</th>\n",
              "      <th>Insulin</th>\n",
              "      <th>BMI</th>\n",
              "      <th>DiabetesPedigreeFunction</th>\n",
              "      <th>Age</th>\n",
              "      <th>Outcome</th>\n",
              "    </tr>\n",
              "  </thead>\n",
              "  <tbody>\n",
              "    <tr>\n",
              "      <th>Pregnancies</th>\n",
              "      <td>1.000000</td>\n",
              "      <td>0.129459</td>\n",
              "      <td>0.141282</td>\n",
              "      <td>-0.081672</td>\n",
              "      <td>-0.073535</td>\n",
              "      <td>0.017683</td>\n",
              "      <td>-0.033523</td>\n",
              "      <td>0.544341</td>\n",
              "      <td>0.221898</td>\n",
              "    </tr>\n",
              "    <tr>\n",
              "      <th>Glucose</th>\n",
              "      <td>0.129459</td>\n",
              "      <td>1.000000</td>\n",
              "      <td>0.152590</td>\n",
              "      <td>0.057328</td>\n",
              "      <td>0.331357</td>\n",
              "      <td>0.221071</td>\n",
              "      <td>0.137337</td>\n",
              "      <td>0.263514</td>\n",
              "      <td>0.466581</td>\n",
              "    </tr>\n",
              "    <tr>\n",
              "      <th>BloodPressure</th>\n",
              "      <td>0.141282</td>\n",
              "      <td>0.152590</td>\n",
              "      <td>1.000000</td>\n",
              "      <td>0.207371</td>\n",
              "      <td>0.088933</td>\n",
              "      <td>0.281805</td>\n",
              "      <td>0.041265</td>\n",
              "      <td>0.239528</td>\n",
              "      <td>0.065068</td>\n",
              "    </tr>\n",
              "    <tr>\n",
              "      <th>SkinThickness</th>\n",
              "      <td>-0.081672</td>\n",
              "      <td>0.057328</td>\n",
              "      <td>0.207371</td>\n",
              "      <td>1.000000</td>\n",
              "      <td>0.436783</td>\n",
              "      <td>0.392573</td>\n",
              "      <td>0.183928</td>\n",
              "      <td>-0.113970</td>\n",
              "      <td>0.074752</td>\n",
              "    </tr>\n",
              "    <tr>\n",
              "      <th>Insulin</th>\n",
              "      <td>-0.073535</td>\n",
              "      <td>0.331357</td>\n",
              "      <td>0.088933</td>\n",
              "      <td>0.436783</td>\n",
              "      <td>1.000000</td>\n",
              "      <td>0.197859</td>\n",
              "      <td>0.185071</td>\n",
              "      <td>-0.042163</td>\n",
              "      <td>0.130548</td>\n",
              "    </tr>\n",
              "    <tr>\n",
              "      <th>BMI</th>\n",
              "      <td>0.017683</td>\n",
              "      <td>0.221071</td>\n",
              "      <td>0.281805</td>\n",
              "      <td>0.392573</td>\n",
              "      <td>0.197859</td>\n",
              "      <td>1.000000</td>\n",
              "      <td>0.140647</td>\n",
              "      <td>0.036242</td>\n",
              "      <td>0.292695</td>\n",
              "    </tr>\n",
              "    <tr>\n",
              "      <th>DiabetesPedigreeFunction</th>\n",
              "      <td>-0.033523</td>\n",
              "      <td>0.137337</td>\n",
              "      <td>0.041265</td>\n",
              "      <td>0.183928</td>\n",
              "      <td>0.185071</td>\n",
              "      <td>0.140647</td>\n",
              "      <td>1.000000</td>\n",
              "      <td>0.033561</td>\n",
              "      <td>0.173844</td>\n",
              "    </tr>\n",
              "    <tr>\n",
              "      <th>Age</th>\n",
              "      <td>0.544341</td>\n",
              "      <td>0.263514</td>\n",
              "      <td>0.239528</td>\n",
              "      <td>-0.113970</td>\n",
              "      <td>-0.042163</td>\n",
              "      <td>0.036242</td>\n",
              "      <td>0.033561</td>\n",
              "      <td>1.000000</td>\n",
              "      <td>0.238356</td>\n",
              "    </tr>\n",
              "    <tr>\n",
              "      <th>Outcome</th>\n",
              "      <td>0.221898</td>\n",
              "      <td>0.466581</td>\n",
              "      <td>0.065068</td>\n",
              "      <td>0.074752</td>\n",
              "      <td>0.130548</td>\n",
              "      <td>0.292695</td>\n",
              "      <td>0.173844</td>\n",
              "      <td>0.238356</td>\n",
              "      <td>1.000000</td>\n",
              "    </tr>\n",
              "  </tbody>\n",
              "</table>\n",
              "</div>"
            ],
            "text/plain": [
              "                          Pregnancies   Glucose  ...       Age   Outcome\n",
              "Pregnancies                  1.000000  0.129459  ...  0.544341  0.221898\n",
              "Glucose                      0.129459  1.000000  ...  0.263514  0.466581\n",
              "BloodPressure                0.141282  0.152590  ...  0.239528  0.065068\n",
              "SkinThickness               -0.081672  0.057328  ... -0.113970  0.074752\n",
              "Insulin                     -0.073535  0.331357  ... -0.042163  0.130548\n",
              "BMI                          0.017683  0.221071  ...  0.036242  0.292695\n",
              "DiabetesPedigreeFunction    -0.033523  0.137337  ...  0.033561  0.173844\n",
              "Age                          0.544341  0.263514  ...  1.000000  0.238356\n",
              "Outcome                      0.221898  0.466581  ...  0.238356  1.000000\n",
              "\n",
              "[9 rows x 9 columns]"
            ]
          },
          "metadata": {
            "tags": []
          },
          "execution_count": 43
        }
      ]
    },
    {
      "cell_type": "code",
      "metadata": {
        "colab": {
          "base_uri": "https://localhost:8080/",
          "height": 407
        },
        "id": "rLztHvSbwEJt",
        "outputId": "7fdff237-d548-4f3a-f782-31a2dfaf468d"
      },
      "source": [
        "sns.heatmap(data.corr())"
      ],
      "execution_count": null,
      "outputs": [
        {
          "output_type": "execute_result",
          "data": {
            "text/plain": [
              "<matplotlib.axes._subplots.AxesSubplot at 0x7fb54fbdaf50>"
            ]
          },
          "metadata": {
            "tags": []
          },
          "execution_count": 44
        },
        {
          "output_type": "display_data",
          "data": {
            "image/png": "[encoded data removed]",
            "text/plain": [
              "<Figure size 432x288 with 2 Axes>"
            ]
          },
          "metadata": {
            "tags": [],
            "needs_background": "light"
          }
        }
      ]
    },
    {
      "cell_type": "markdown",
      "metadata": {
        "id": "rP_23y2axpCS"
      },
      "source": [
        "\n",
        "\n",
        "*   No strong relation between the varibles\n",
        "\n"
      ]
    },
    {
      "cell_type": "code",
      "metadata": {
        "colab": {
          "base_uri": "https://localhost:8080/"
        },
        "id": "bgugXFkYx21R",
        "outputId": "873ecd85-884d-472d-f591-a65706b57fbe"
      },
      "source": [
        "#count the null value\n",
        "x.isnull().sum()"
      ],
      "execution_count": null,
      "outputs": [
        {
          "output_type": "execute_result",
          "data": {
            "text/plain": [
              "Pregnancies                 0\n",
              "Glucose                     0\n",
              "BloodPressure               0\n",
              "SkinThickness               0\n",
              "Insulin                     0\n",
              "BMI                         0\n",
              "DiabetesPedigreeFunction    0\n",
              "Age                         0\n",
              "dtype: int64"
            ]
          },
          "metadata": {
            "tags": []
          },
          "execution_count": 17
        }
      ]
    },
    {
      "cell_type": "code",
      "metadata": {
        "colab": {
          "base_uri": "https://localhost:8080/",
          "height": 879
        },
        "id": "zxQ2WORW9uHK",
        "outputId": "ee251e55-586a-4e56-d21d-d2445f585461"
      },
      "source": [
        "#draw graph\n",
        "fig, ax = plt.subplots(4,2,figsize=(4.5,15))\n",
        "ax[0,0].bar(y,x['Pregnancies'])\n",
        "ax[0,0].set_title('Pregnancies')\n",
        "ax[0,1].bar(y,x['Glucose'])\n",
        "ax[0,1].set_title('Glucose')\n",
        "ax[1,0].bar(y,x['BloodPressure'])\n",
        "ax[1,0].set_title('BloodPressure')\n",
        "ax[1,1].bar(y,x['SkinThickness'])\n",
        "ax[1,1].set_title('SkinThickness')\n",
        "ax[2,0].bar(y,x['Insulin'])\n",
        "ax[2,0].set_title('Insulin')\n",
        "ax[2,1].bar(y,x['BMI'])\n",
        "ax[2,1].set_title('BMI')\n",
        "ax[3,0].bar(y,x['DiabetesPedigreeFunction'])\n",
        "ax[3,0].set_title('DiabetesPedigreeFunction')\n",
        "ax[3,1].bar(y,x['Age'])\n",
        "ax[3,1].set_title('Age')\n",
        "plt.show()"
      ],
      "execution_count": null,
      "outputs": [
        {
          "output_type": "display_data",
          "data": {
            "image/png": "[encoded data removed]",
            "text/plain": [
              "<Figure size 324x1080 with 8 Axes>"
            ]
          },
          "metadata": {
            "tags": [],
            "needs_background": "light"
          }
        }
      ]
    },
    {
      "cell_type": "code",
      "metadata": {
        "colab": {
          "base_uri": "https://localhost:8080/"
        },
        "id": "6rOKHIiXIpsD",
        "outputId": "5dc28c6c-4916-48d5-b0bb-e004f911b78a"
      },
      "source": [
        "data['Insulin'].mean()"
      ],
      "execution_count": null,
      "outputs": [
        {
          "output_type": "execute_result",
          "data": {
            "text/plain": [
              "79.79947916666667"
            ]
          },
          "metadata": {
            "tags": []
          },
          "execution_count": 45
        }
      ]
    },
    {
      "cell_type": "code",
      "metadata": {
        "id": "dW9Y_tICI0PL"
      },
      "source": [
        "data['Insulin'].replace({0 : data['Insulin'].mean()},inplace = True)"
      ],
      "execution_count": null,
      "outputs": []
    },
    {
      "cell_type": "code",
      "metadata": {
        "id": "s_mAxjaVJSBE"
      },
      "source": [
        "data['SkinThickness'].replace({0 : data['SkinThickness'].mean()},inplace = True)"
      ],
      "execution_count": null,
      "outputs": []
    },
    {
      "cell_type": "code",
      "metadata": {
        "id": "KjQhKpEjP5b9"
      },
      "source": [
        "#extract independent data\n",
        "#x is independent data, y is dependent data\n",
        "x = data.drop('Outcome',axis = 1)\n",
        "y = data['Outcome']"
      ],
      "execution_count": null,
      "outputs": []
    },
    {
      "cell_type": "code",
      "metadata": {
        "id": "jKz6QciLy89g"
      },
      "source": [
        "#Standardization\n",
        "from sklearn.preprocessing import StandardScaler\n",
        "sc = StandardScaler()\n",
        "x = sc.fit_transform(x)"
      ],
      "execution_count": null,
      "outputs": []
    },
    {
      "cell_type": "code",
      "metadata": {
        "colab": {
          "base_uri": "https://localhost:8080/",
          "height": 669
        },
        "id": "AkQu8123Pp2g",
        "outputId": "493ddd9b-07b6-4ed8-b937-b8ea7ed53dfa"
      },
      "source": [
        "x.hist(figsize=(12,8))"
      ],
      "execution_count": null,
      "outputs": [
        {
          "output_type": "execute_result",
          "data": {
            "text/plain": [
              "array([[<matplotlib.axes._subplots.AxesSubplot object at 0x7fb54e7e4f50>,\n",
              "        <matplotlib.axes._subplots.AxesSubplot object at 0x7fb54e7b04d0>,\n",
              "        <matplotlib.axes._subplots.AxesSubplot object at 0x7fb54e6b9210>],\n",
              "       [<matplotlib.axes._subplots.AxesSubplot object at 0x7fb54e6ec890>,\n",
              "        <matplotlib.axes._subplots.AxesSubplot object at 0x7fb54e6aa410>,\n",
              "        <matplotlib.axes._subplots.AxesSubplot object at 0x7fb54e65f990>],\n",
              "       [<matplotlib.axes._subplots.AxesSubplot object at 0x7fb54e615f90>,\n",
              "        <matplotlib.axes._subplots.AxesSubplot object at 0x7fb54e5d7490>,\n",
              "        <matplotlib.axes._subplots.AxesSubplot object at 0x7fb54e5d74d0>]],\n",
              "      dtype=object)"
            ]
          },
          "metadata": {
            "tags": []
          },
          "execution_count": 106
        },
        {
          "output_type": "display_data",
          "data": {
            "image/png": "[encoded data removed]",
            "text/plain": [
              "<Figure size 864x576 with 9 Axes>"
            ]
          },
          "metadata": {
            "tags": [],
            "needs_background": "light"
          }
        }
      ]
    },
    {
      "cell_type": "code",
      "metadata": {
        "colab": {
          "base_uri": "https://localhost:8080/"
        },
        "id": "ogogrIKxzNaR",
        "outputId": "d97f9bd9-f160-4ba0-9b36-fed980bd4ccb"
      },
      "source": [
        "from sklearn.model_selection import train_test_split,KFold,cross_val_score\n",
        "from sklearn.discriminant_analysis import LinearDiscriminantAnalysis\n",
        "model = LinearDiscriminantAnalysis()\n",
        "\n",
        "cv = KFold(n_splits=3, shuffle=True, random_state=42)\n",
        "\n",
        "result = cross_val_score(model, x, y, cv=cv, scoring='accuracy')\n",
        "\n",
        "print (f'Accuracy:: %{round(result.mean() * 100.0,3)}')"
      ],
      "execution_count": null,
      "outputs": [
        {
          "output_type": "stream",
          "text": [
            "Accuracy:: %75.911\n"
          ],
          "name": "stdout"
        }
      ]
    },
    {
      "cell_type": "code",
      "metadata": {
        "id": "o5w_7V8f12c7"
      },
      "source": [
        "#split data to train,test data\n",
        "from sklearn.model_selection import train_test_split\n",
        "x_train, x_test, y_train, y_test= train_test_split(x, y, test_size= 0.2, random_state=0)"
      ],
      "execution_count": null,
      "outputs": []
    },
    {
      "cell_type": "code",
      "metadata": {
        "colab": {
          "base_uri": "https://localhost:8080/"
        },
        "id": "Y0E2nxZj0CMz",
        "outputId": "5a0cb183-1344-4b3f-e7b6-3ab60db10c7c"
      },
      "source": [
        "from xgboost import XGBClassifier\n",
        "from sklearn.metrics import accuracy_score\n",
        "model = XGBClassifier(eval_metric='logloss')\n",
        "model.fit(x_train, y_train)\n",
        "predictions = model.predict(x_test)\n",
        "\n",
        "accuracy = accuracy_score(y_test, predictions)\n",
        "print (f'Accuracy:: {round(accuracy * 100.0,3)}')"
      ],
      "execution_count": null,
      "outputs": [
        {
          "output_type": "stream",
          "text": [
            "Accuracy:: 81.818\n"
          ],
          "name": "stdout"
        }
      ]
    },
    {
      "cell_type": "code",
      "metadata": {
        "colab": {
          "base_uri": "https://localhost:8080/"
        },
        "id": "HKWDEQLY_l4g",
        "outputId": "f2b472d5-6635-413a-8ea7-9aa7170d24b2"
      },
      "source": [
        "from sklearn.impute import SimpleImputer, KNNImputer\n",
        "from sklearn.pipeline import Pipeline\n",
        "imputer = KNNImputer()\n",
        "\n",
        "model = XGBClassifier(eval_metric='logloss')\n",
        "\n",
        "pipeline = Pipeline(steps=[('imputer', imputer),('model', model)])\n",
        "\n",
        "kfold = KFold(n_splits=10, random_state=42)\n",
        "results = cross_val_score(model, x, y, cv=kfold)\n",
        "print(f'Accuracy: Results Mean : %{round(results.mean()*100,3)}, Results Standard Deviation : {round(results.std()*100,3)}')"
      ],
      "execution_count": null,
      "outputs": [
        {
          "output_type": "stream",
          "text": [
            "/usr/local/lib/python3.7/dist-packages/sklearn/model_selection/_split.py:296: FutureWarning: Setting a random_state has no effect since shuffle is False. This will raise an error in 0.24. You should leave random_state to its default (None), or set shuffle=True.\n",
            "  FutureWarning\n"
          ],
          "name": "stderr"
        },
        {
          "output_type": "stream",
          "text": [
            "Accuracy: Results Mean : %76.687, Results Standard Deviation : 7.11\n"
          ],
          "name": "stdout"
        }
      ]
    },
    {
      "cell_type": "markdown",
      "metadata": {
        "id": "nyrnWllfLFgx"
      },
      "source": [
        "Now i try to drop row !!"
      ]
    },
    {
      "cell_type": "code",
      "metadata": {
        "id": "i3rDQmgsJoAd"
      },
      "source": [
        "data.drop(data[data['Insulin'] == 0].index,inplace=True)"
      ],
      "execution_count": null,
      "outputs": []
    },
    {
      "cell_type": "code",
      "metadata": {
        "colab": {
          "base_uri": "https://localhost:8080/"
        },
        "id": "Y0MGc3YcOkj5",
        "outputId": "822b75b2-1329-453f-cccc-848bf2d437f6"
      },
      "source": [
        "data.shape"
      ],
      "execution_count": null,
      "outputs": [
        {
          "output_type": "execute_result",
          "data": {
            "text/plain": [
              "(394, 9)"
            ]
          },
          "metadata": {
            "tags": []
          },
          "execution_count": 99
        }
      ]
    },
    {
      "cell_type": "code",
      "metadata": {
        "id": "c6KvQaW-NNmZ"
      },
      "source": [
        "#extract independent data\n",
        "#x is independent data, y is dependent data\n",
        "x = data.drop('Outcome',axis = 1)\n",
        "y = data['Outcome']"
      ],
      "execution_count": null,
      "outputs": []
    },
    {
      "cell_type": "code",
      "metadata": {
        "id": "nOeaceykM4Ts"
      },
      "source": [
        "#Standardization\n",
        "from sklearn.preprocessing import StandardScaler\n",
        "sc = StandardScaler()\n",
        "x = sc.fit_transform(x)\n",
        "#split data to train,test data\n",
        "from sklearn.model_selection import train_test_split\n",
        "x_train, x_test, y_train, y_test= train_test_split(x, y, test_size= 0.2, random_state=0)"
      ],
      "execution_count": null,
      "outputs": []
    },
    {
      "cell_type": "code",
      "metadata": {
        "colab": {
          "base_uri": "https://localhost:8080/"
        },
        "id": "irDDBU7VNESc",
        "outputId": "64f0bbee-a0d7-4c55-db1f-cb9d7df82945"
      },
      "source": [
        "from sklearn.model_selection import train_test_split,KFold,cross_val_score\n",
        "from sklearn.discriminant_analysis import LinearDiscriminantAnalysis\n",
        "model = LinearDiscriminantAnalysis()\n",
        "\n",
        "cv = KFold(n_splits=3, shuffle=True, random_state=42)\n",
        "\n",
        "result = cross_val_score(model, x, y, cv=cv, scoring='accuracy')\n",
        "\n",
        "print (f'Accuracy:: %{round(result.mean() * 100.0,3)}')"
      ],
      "execution_count": null,
      "outputs": [
        {
          "output_type": "stream",
          "text": [
            "Accuracy:: %77.153\n"
          ],
          "name": "stdout"
        }
      ]
    },
    {
      "cell_type": "code",
      "metadata": {
        "colab": {
          "base_uri": "https://localhost:8080/"
        },
        "id": "OH5YpDjbNKJf",
        "outputId": "1ea4970b-346a-4424-dc51-49896379f39a"
      },
      "source": [
        "from xgboost import XGBClassifier\n",
        "from sklearn.metrics import accuracy_score\n",
        "model = XGBClassifier(eval_metric='logloss')\n",
        "model.fit(x_train, y_train)\n",
        "predictions = model.predict(x_test)\n",
        "\n",
        "accuracy = accuracy_score(y_test, predictions)\n",
        "print (f'Accuracy:: {round(accuracy * 100.0,3)}')"
      ],
      "execution_count": null,
      "outputs": [
        {
          "output_type": "stream",
          "text": [
            "Accuracy:: 83.544\n"
          ],
          "name": "stdout"
        }
      ]
    },
    {
      "cell_type": "code",
      "metadata": {
        "colab": {
          "base_uri": "https://localhost:8080/"
        },
        "id": "HtMOkMOiNcgR",
        "outputId": "c112c7cf-1851-404b-a9f7-aebbc9a6c5f0"
      },
      "source": [
        "from sklearn.impute import SimpleImputer, KNNImputer\n",
        "from sklearn.pipeline import Pipeline\n",
        "imputer = KNNImputer()\n",
        "\n",
        "model = XGBClassifier(eval_metric='logloss')\n",
        "\n",
        "pipeline = Pipeline(steps=[('imputer', imputer),('model', model)])\n",
        "\n",
        "kfold = KFold(n_splits=10, random_state=42)\n",
        "results = cross_val_score(model, x, y, cv=kfold)\n",
        "print(f'Accuracy: Results Mean : %{round(results.mean()*100,3)}, Results Standard Deviation : {round(results.std()*100,3)}')"
      ],
      "execution_count": null,
      "outputs": [
        {
          "output_type": "stream",
          "text": [
            "/usr/local/lib/python3.7/dist-packages/sklearn/model_selection/_split.py:296: FutureWarning: Setting a random_state has no effect since shuffle is False. This will raise an error in 0.24. You should leave random_state to its default (None), or set shuffle=True.\n",
            "  FutureWarning\n"
          ],
          "name": "stderr"
        },
        {
          "output_type": "stream",
          "text": [
            "Accuracy: Results Mean : %77.506, Results Standard Deviation : 10.273\n"
          ],
          "name": "stdout"
        }
      ]
    },
    {
      "cell_type": "markdown",
      "metadata": {
        "id": "t_qW_1RONgUW"
      },
      "source": [
        "Drom more column !!\n"
      ]
    },
    {
      "cell_type": "code",
      "metadata": {
        "id": "M6TLAJLNNiuN"
      },
      "source": [
        "data.drop(data[data['Insulin'] == 0].index,inplace=True)\n",
        "data.drop(data[data['SkinThickness'] == 0].index,inplace=True)"
      ],
      "execution_count": null,
      "outputs": []
    },
    {
      "cell_type": "code",
      "metadata": {
        "id": "Ljx1cnCANvGx"
      },
      "source": [
        "#extract independent data\n",
        "#x is independent data, y is dependent data\n",
        "x = data.drop('Outcome',axis = 1)\n",
        "y = data['Outcome']\n"
      ],
      "execution_count": null,
      "outputs": []
    },
    {
      "cell_type": "code",
      "metadata": {
        "id": "sHmlh1OMN3lv"
      },
      "source": [
        "#Standardization\n",
        "from sklearn.preprocessing import StandardScaler\n",
        "sc = StandardScaler()\n",
        "x = sc.fit_transform(x)\n",
        "#split data to train,test data\n",
        "from sklearn.model_selection import train_test_split\n",
        "x_train, x_test, y_train, y_test= train_test_split(x, y, test_size= 0.2, random_state=0)"
      ],
      "execution_count": null,
      "outputs": []
    },
    {
      "cell_type": "code",
      "metadata": {
        "colab": {
          "base_uri": "https://localhost:8080/"
        },
        "id": "cicUQFtnN7eu",
        "outputId": "9f523c22-9d4a-4c3b-8f69-fb8a2f4d1877"
      },
      "source": [
        "from sklearn.model_selection import train_test_split,KFold,cross_val_score\n",
        "from sklearn.discriminant_analysis import LinearDiscriminantAnalysis\n",
        "model = LinearDiscriminantAnalysis()\n",
        "\n",
        "cv = KFold(n_splits=3, shuffle=True, random_state=42)\n",
        "\n",
        "result = cross_val_score(model, x, y, cv=cv, scoring='accuracy')\n",
        "\n",
        "print (f'Accuracy:: %{round(result.mean() * 100.0,3)}')"
      ],
      "execution_count": null,
      "outputs": [
        {
          "output_type": "stream",
          "text": [
            "Accuracy:: %77.153\n"
          ],
          "name": "stdout"
        }
      ]
    },
    {
      "cell_type": "code",
      "metadata": {
        "colab": {
          "base_uri": "https://localhost:8080/"
        },
        "id": "cZzeDzvQOL63",
        "outputId": "f3e473e2-3712-41a8-819c-997773ef1c2f"
      },
      "source": [
        "from xgboost import XGBClassifier\n",
        "from sklearn.metrics import accuracy_score\n",
        "model = XGBClassifier(eval_metric='logloss')\n",
        "model.fit(x_train, y_train)\n",
        "predictions = model.predict(x_test)\n",
        "\n",
        "accuracy = accuracy_score(y_test, predictions)\n",
        "print (f'Accuracy:: {round(accuracy * 100.0,3)}')"
      ],
      "execution_count": null,
      "outputs": [
        {
          "output_type": "stream",
          "text": [
            "Accuracy:: 83.544\n"
          ],
          "name": "stdout"
        }
      ]
    },
    {
      "cell_type": "code",
      "metadata": {
        "colab": {
          "base_uri": "https://localhost:8080/"
        },
        "id": "K6t-oQaHOQiW",
        "outputId": "ae4dee10-6b6d-4b3a-e9a8-154643a01b86"
      },
      "source": [
        "from sklearn.impute import SimpleImputer, KNNImputer\n",
        "from sklearn.pipeline import Pipeline\n",
        "imputer = KNNImputer()\n",
        "\n",
        "model = XGBClassifier(eval_metric='logloss')\n",
        "\n",
        "pipeline = Pipeline(steps=[('imputer', imputer),('model', model)])\n",
        "\n",
        "kfold = KFold(n_splits=10, random_state=42)\n",
        "results = cross_val_score(model, x, y, cv=kfold)\n",
        "print(f'Accuracy: Results Mean : %{round(results.mean()*100,3)}, Results Standard Deviation : {round(results.std()*100,3)}')"
      ],
      "execution_count": null,
      "outputs": [
        {
          "output_type": "stream",
          "text": [
            "/usr/local/lib/python3.7/dist-packages/sklearn/model_selection/_split.py:296: FutureWarning: Setting a random_state has no effect since shuffle is False. This will raise an error in 0.24. You should leave random_state to its default (None), or set shuffle=True.\n",
            "  FutureWarning\n"
          ],
          "name": "stderr"
        },
        {
          "output_type": "stream",
          "text": [
            "Accuracy: Results Mean : %77.506, Results Standard Deviation : 10.273\n"
          ],
          "name": "stdout"
        }
      ]
    },
    {
      "cell_type": "markdown",
      "metadata": {
        "id": "M7oy1x7yOTfU"
      },
      "source": [
        ":))) just Insulin is OK"
      ]
    },
    {
      "cell_type": "code",
      "metadata": {
        "colab": {
          "base_uri": "https://localhost:8080/"
        },
        "id": "Vbtc-K9vOaxW",
        "outputId": "b8453f73-8cf4-4a57-f994-56e0dfedbf97"
      },
      "source": [
        "data.shape"
      ],
      "execution_count": null,
      "outputs": [
        {
          "output_type": "execute_result",
          "data": {
            "text/plain": [
              "(394, 9)"
            ]
          },
          "metadata": {
            "tags": []
          },
          "execution_count": 96
        }
      ]
    }
  ]
}